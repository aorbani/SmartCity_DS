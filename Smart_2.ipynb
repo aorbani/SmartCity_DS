{
  "nbformat": 4,
  "nbformat_minor": 0,
  "metadata": {
    "colab": {
      "name": "Smart_2.ipynb",
      "provenance": [],
      "collapsed_sections": []
    },
    "kernelspec": {
      "name": "python3",
      "display_name": "Python 3"
    },
    "accelerator": "GPU"
  },
  "cells": [
    {
      "cell_type": "code",
      "metadata": {
        "id": "eBoLsLKqtFNh",
        "colab_type": "code",
        "outputId": "ebb40242-aa99-4760-a7cd-ce6860f5619f",
        "colab": {
          "base_uri": "https://localhost:8080/",
          "height": 72
        }
      },
      "source": [
        "import os\n",
        "import shutil\n",
        "from sklearn.ensemble import AdaBoostClassifier\n",
        "from tqdm import tqdm\n",
        "from sklearn.utils.multiclass import unique_labels\n",
        "from sklearn.tree import DecisionTreeClassifier, DecisionTreeRegressor, export_graphviz\n",
        "from sklearn.ensemble import BaggingClassifier, RandomForestClassifier, BaggingRegressor, RandomForestRegressor\n",
        "from sklearn.datasets import make_classification\n",
        "\n",
        "import seaborn as sb\n",
        "from sklearn.metrics import accuracy_score\n",
        "import matplotlib.pyplot as plt\n",
        "import numpy as np\n",
        "import tensorflow as tf\n",
        "from sklearn.ensemble import AdaBoostClassifier\n",
        "from tqdm import tqdm\n",
        "from sklearn.metrics import f1_score\n",
        "import pandas as pd\n",
        "import seaborn as sns\n",
        "from sklearn.metrics import accuracy_score\n",
        "pd.set_option('display.max_columns', 500)\n",
        "from IPython.display import display\n",
        "from sklearn.model_selection import train_test_split, cross_val_score\n",
        "from sklearn.datasets import make_blobs, make_moons\n",
        "from sklearn.model_selection import cross_validate,GridSearchCV\n",
        "from sklearn.metrics import accuracy_score, make_scorer, confusion_matrix\n",
        "import sklearn.svm as svm\n",
        "\n",
        "from sklearn.pipeline import Pipeline\n",
        "from sklearn.preprocessing import StandardScaler\n",
        "%matplotlib inline"
      ],
      "execution_count": 0,
      "outputs": [
        {
          "output_type": "stream",
          "text": [
            "/usr/local/lib/python3.6/dist-packages/statsmodels/tools/_testing.py:19: FutureWarning: pandas.util.testing is deprecated. Use the functions in the public API at pandas.testing instead.\n",
            "  import pandas.util.testing as tm\n"
          ],
          "name": "stderr"
        }
      ]
    },
    {
      "cell_type": "code",
      "metadata": {
        "id": "E0a5UcSFtlJA",
        "colab_type": "code",
        "outputId": "5544e32b-b09f-4d29-b485-db2a1bcf122b",
        "colab": {
          "resources": {
            "http://localhost:8080/nbextensions/google.colab/files.js": {
              "data": "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",
              "ok": true,
              "headers": [
                [
                  "content-type",
                  "application/javascript"
                ]
              ],
              "status": 200,
              "status_text": ""
            }
          },
          "base_uri": "https://localhost:8080/",
          "height": 74
        }
      },
      "source": [
        "from google.colab import files \n",
        "uploaded = files.upload() "
      ],
      "execution_count": 0,
      "outputs": [
        {
          "output_type": "display_data",
          "data": {
            "text/html": [
              "\n",
              "     <input type=\"file\" id=\"files-1f4560f0-deeb-4053-80df-0e87755a0693\" name=\"files[]\" multiple disabled />\n",
              "     <output id=\"result-1f4560f0-deeb-4053-80df-0e87755a0693\">\n",
              "      Upload widget is only available when the cell has been executed in the\n",
              "      current browser session. Please rerun this cell to enable.\n",
              "      </output>\n",
              "      <script src=\"/nbextensions/google.colab/files.js\"></script> "
            ],
            "text/plain": [
              "<IPython.core.display.HTML object>"
            ]
          },
          "metadata": {
            "tags": []
          }
        },
        {
          "output_type": "stream",
          "text": [
            "Saving SensorLog3001-12m.txt to SensorLog3001-12m.txt\n"
          ],
          "name": "stdout"
        }
      ]
    },
    {
      "cell_type": "code",
      "metadata": {
        "id": "3F3V3b2HwSI0",
        "colab_type": "code",
        "colab": {}
      },
      "source": [
        "import io \n",
        "data = np.loadtxt(io.BytesIO(uploaded['SensorLog3001-12m.txt']),dtype='str',delimiter=',')"
      ],
      "execution_count": 0,
      "outputs": []
    },
    {
      "cell_type": "code",
      "metadata": {
        "id": "y2TH3pRJwtgv",
        "colab_type": "code",
        "outputId": "20ce894f-b35f-4412-de43-170c1c54dea6",
        "colab": {
          "base_uri": "https://localhost:8080/",
          "height": 588
        }
      },
      "source": [
        "dataset = pd.DataFrame({'House_Number': data[:, 0], 'Sensor_num': data[:, 1], 'Status': data[:, 2], 'Day': data[:, 3], 'Month': data[:, 4], 'Year': data[:, 5], 'Hour': data[:, 6], 'Min': data[:, 7], 'Counter': data[:, 8], 'Time_elapsed': data[:, 9]}\n",
        "                      , columns=['House_Number', 'Sensor_num', 'Status','Day','Month', 'Year', 'Hour', 'Min', 'Counter','Time_elapsed' ])\n",
        "bed_data = dataset.drop(['House_Number','Counter','Time_elapsed'], axis = 'columns')\n",
        "bed_data[['Year','Day','Month','Hour','Min']] = bed_data[['Year','Day','Month','Hour','Min']].astype(int)\n",
        "#slept = False\n",
        "column_names = [\"Month\",\"Day\",\"Sleeping duration: hr\",\"Sleeping duration: min\",\"Sleeping start: hr\",\"Sleeping start: min\",\"Sleeping end: hr\",\"Sleeping end: min\"]\n",
        "DurationSlept = pd.DataFrame(columns = column_names)\n",
        "j=0\n",
        "\n",
        "for i,sensor in enumerate(bed_data.Sensor_num):\n",
        "    if (sensor =='Sensor 7'):\n",
        "      if (bed_data.loc[i].Status==\"Chair Sensor Occupied\"):\n",
        "        bed_data['Status'][i] = 0\n",
        "    if (sensor=='Sensor 5'):\n",
        "      if (bed_data.loc[i].Status == \"Pat's Bedroom Motion Activated\"):\n",
        "        bed_data['Status'][i] = 0\n",
        "      else:\n",
        "        bed_data['Status'][i] = 1\n",
        "    elif(sensor=='Sensor 8'):\n",
        "      if (bed_data.loc[i].Status == \"ABS Bed Sensor Occupied\" or bed_data.loc[i].Status == \"ABS Bed Sensor was occupied\"):\n",
        "        bed_data['Status'][i] = 1\n",
        "        slept = True\n",
        "        day = bed_data.loc[i].Day\n",
        "        hr = bed_data.loc[i].Hour\n",
        "        minn = bed_data.loc[i].Min\n",
        "#(bed_data.loc[i].Status == \"ABS Bed Sensor Vacated\" or bed_data.loc[i].Status == \"ABS Bed Sensor Briefly Vacated\")      \n",
        "      else:\n",
        "        bed_data['Status'][i] = 0\n",
        "        if slept:\n",
        "          hr2 =  bed_data.loc[i].Hour - hr\n",
        "          if hr2<0:\n",
        "            hr2+=24\n",
        "\n",
        "          min2 = bed_data.loc[i].Min - minn\n",
        "          if min2<0:\n",
        "            min2+=60\n",
        "          \n",
        "          if hr2>0: \n",
        "            if (j==0):\n",
        "              DurationSlept.loc[j]=([dataset.loc[i].Month, dataset.loc[i].Day,hr2,min2,hr,minn, dataset.loc[i].Hour, dataset.loc[i].Min])\n",
        "            else:\n",
        "              lastslept = DurationSlept.at[j-1,\"Sleeping start: hr\"] -hr\n",
        "              if lastslept<0:\n",
        "                lastslept+=24\n",
        "              if (lastslept <2):\n",
        "                DurationSlept.at[j-1,\"Sleeping end: hr\"] = bed_data.loc[i].Hour\n",
        "                DurationSlept.at[j-1,\"Sleeping end: min\"] = bed_data.loc[i].Min\n",
        "                DurationSlept.at[j-1,\"Sleeping duration: hr\"] += hr2\n",
        "                DurationSlept.at[j-1,\"Sleeping duration: min\"] += min2\n",
        "                j-=1\n",
        "              else:\n",
        "                DurationSlept.loc[j]=([dataset.loc[i].Month, dataset.loc[i].Day,hr2,min2,hr,minn, dataset.loc[i].Hour, dataset.loc[i].Min])\n",
        "            j+=1\n",
        "        slept =False\n",
        "          #bed_data = bed_data.drop([i])\n",
        "        \n",
        "    else:\n",
        "      bed_data = bed_data.drop([i])\n",
        "\n",
        "bed_data.head()"
      ],
      "execution_count": 0,
      "outputs": [
        {
          "output_type": "stream",
          "text": [
            "/usr/local/lib/python3.6/dist-packages/ipykernel_launcher.py:13: SettingWithCopyWarning: \n",
            "A value is trying to be set on a copy of a slice from a DataFrame\n",
            "\n",
            "See the caveats in the documentation: https://pandas.pydata.org/pandas-docs/stable/user_guide/indexing.html#returning-a-view-versus-a-copy\n",
            "  del sys.path[0]\n",
            "/usr/local/lib/python3.6/dist-packages/ipykernel_launcher.py:18: SettingWithCopyWarning: \n",
            "A value is trying to be set on a copy of a slice from a DataFrame\n",
            "\n",
            "See the caveats in the documentation: https://pandas.pydata.org/pandas-docs/stable/user_guide/indexing.html#returning-a-view-versus-a-copy\n",
            "/usr/local/lib/python3.6/dist-packages/ipykernel_launcher.py:16: SettingWithCopyWarning: \n",
            "A value is trying to be set on a copy of a slice from a DataFrame\n",
            "\n",
            "See the caveats in the documentation: https://pandas.pydata.org/pandas-docs/stable/user_guide/indexing.html#returning-a-view-versus-a-copy\n",
            "  app.launch_new_instance()\n",
            "/usr/local/lib/python3.6/dist-packages/ipykernel_launcher.py:21: SettingWithCopyWarning: \n",
            "A value is trying to be set on a copy of a slice from a DataFrame\n",
            "\n",
            "See the caveats in the documentation: https://pandas.pydata.org/pandas-docs/stable/user_guide/indexing.html#returning-a-view-versus-a-copy\n",
            "/usr/local/lib/python3.6/dist-packages/ipykernel_launcher.py:28: SettingWithCopyWarning: \n",
            "A value is trying to be set on a copy of a slice from a DataFrame\n",
            "\n",
            "See the caveats in the documentation: https://pandas.pydata.org/pandas-docs/stable/user_guide/indexing.html#returning-a-view-versus-a-copy\n"
          ],
          "name": "stderr"
        },
        {
          "output_type": "execute_result",
          "data": {
            "text/html": [
              "<div>\n",
              "<style scoped>\n",
              "    .dataframe tbody tr th:only-of-type {\n",
              "        vertical-align: middle;\n",
              "    }\n",
              "\n",
              "    .dataframe tbody tr th {\n",
              "        vertical-align: top;\n",
              "    }\n",
              "\n",
              "    .dataframe thead th {\n",
              "        text-align: right;\n",
              "    }\n",
              "</style>\n",
              "<table border=\"1\" class=\"dataframe\">\n",
              "  <thead>\n",
              "    <tr style=\"text-align: right;\">\n",
              "      <th></th>\n",
              "      <th>Sensor_num</th>\n",
              "      <th>Status</th>\n",
              "      <th>Day</th>\n",
              "      <th>Month</th>\n",
              "      <th>Year</th>\n",
              "      <th>Hour</th>\n",
              "      <th>Min</th>\n",
              "    </tr>\n",
              "  </thead>\n",
              "  <tbody>\n",
              "    <tr>\n",
              "      <th>10</th>\n",
              "      <td>Sensor 5</td>\n",
              "      <td>1</td>\n",
              "      <td>23</td>\n",
              "      <td>10</td>\n",
              "      <td>2017</td>\n",
              "      <td>10</td>\n",
              "      <td>27</td>\n",
              "    </tr>\n",
              "    <tr>\n",
              "      <th>22</th>\n",
              "      <td>Sensor 5</td>\n",
              "      <td>0</td>\n",
              "      <td>23</td>\n",
              "      <td>10</td>\n",
              "      <td>2017</td>\n",
              "      <td>10</td>\n",
              "      <td>50</td>\n",
              "    </tr>\n",
              "    <tr>\n",
              "      <th>25</th>\n",
              "      <td>Sensor 5</td>\n",
              "      <td>1</td>\n",
              "      <td>23</td>\n",
              "      <td>10</td>\n",
              "      <td>2017</td>\n",
              "      <td>10</td>\n",
              "      <td>52</td>\n",
              "    </tr>\n",
              "    <tr>\n",
              "      <th>36</th>\n",
              "      <td>Sensor 5</td>\n",
              "      <td>0</td>\n",
              "      <td>23</td>\n",
              "      <td>10</td>\n",
              "      <td>2017</td>\n",
              "      <td>11</td>\n",
              "      <td>28</td>\n",
              "    </tr>\n",
              "    <tr>\n",
              "      <th>37</th>\n",
              "      <td>Sensor 5</td>\n",
              "      <td>1</td>\n",
              "      <td>23</td>\n",
              "      <td>10</td>\n",
              "      <td>2017</td>\n",
              "      <td>11</td>\n",
              "      <td>31</td>\n",
              "    </tr>\n",
              "  </tbody>\n",
              "</table>\n",
              "</div>"
            ],
            "text/plain": [
              "   Sensor_num Status  Day  Month  Year  Hour  Min\n",
              "10   Sensor 5      1   23     10  2017    10   27\n",
              "22   Sensor 5      0   23     10  2017    10   50\n",
              "25   Sensor 5      1   23     10  2017    10   52\n",
              "36   Sensor 5      0   23     10  2017    11   28\n",
              "37   Sensor 5      1   23     10  2017    11   31"
            ]
          },
          "metadata": {
            "tags": []
          },
          "execution_count": 4
        }
      ]
    },
    {
      "cell_type": "code",
      "metadata": {
        "id": "oqOWQWRZIiKv",
        "colab_type": "code",
        "outputId": "99e87330-e2f6-4a4f-9825-6e519c5df5cf",
        "colab": {
          "base_uri": "https://localhost:8080/",
          "height": 517
        }
      },
      "source": [
        "DurationSlept = DurationSlept.astype(int)\n",
        "DurationSlept = DurationSlept.sort_values('Month')\n",
        "OneMonthSleepingPattern = DurationSlept[(DurationSlept['Month']==3)]\n",
        "print(OneMonthSleepingPattern.shape)\n",
        "OneMonthSleepingPattern = OneMonthSleepingPattern.sort_values('Day')\n",
        "fig, ax = plt.subplots(dpi=120)\n",
        "ax.bar(OneMonthSleepingPattern['Day'],OneMonthSleepingPattern['Sleeping duration: hr'])\n",
        "ax.set_title(\"Sleeping pattern\")\n",
        "ax.set_xlabel(\"Days of a month\")\n",
        "ax.set_ylabel(\"Sleeping hours\")"
      ],
      "execution_count": 0,
      "outputs": [
        {
          "output_type": "stream",
          "text": [
            "(81, 8)\n"
          ],
          "name": "stdout"
        },
        {
          "output_type": "execute_result",
          "data": {
            "text/plain": [
              "Text(0, 0.5, 'Sleeping hours')"
            ]
          },
          "metadata": {
            "tags": []
          },
          "execution_count": 5
        },
        {
          "output_type": "display_data",
          "data": {
            "image/png": "[encoded data removed]",
            "text/plain": [
              "<Figure size 720x480 with 1 Axes>"
            ]
          },
          "metadata": {
            "tags": [],
            "needs_background": "light"
          }
        }
      ]
    },
    {
      "cell_type": "code",
      "metadata": {
        "id": "NXF0TKSYx3sw",
        "colab_type": "code",
        "outputId": "8f09b30a-e547-4d74-b470-cd3bc4a99b7c",
        "colab": {
          "base_uri": "https://localhost:8080/",
          "height": 278
        }
      },
      "source": [
        "ax1 = bed_data.plot.scatter(x='Day',y='Status',alpha=0.5)"
      ],
      "execution_count": 0,
      "outputs": [
        {
          "output_type": "display_data",
          "data": {
            "image/png": "[encoded data removed]",
            "text/plain": [
              "<Figure size 432x288 with 1 Axes>"
            ]
          },
          "metadata": {
            "tags": [],
            "needs_background": "light"
          }
        }
      ]
    },
    {
      "cell_type": "code",
      "metadata": {
        "id": "8AEeW7v55uKB",
        "colab_type": "code",
        "outputId": "8789f2a8-7418-4693-931a-345960c77884",
        "colab": {
          "base_uri": "https://localhost:8080/",
          "height": 123
        }
      },
      "source": [
        "odd_days = [1,3,5]\n",
        "even_days = [2,4,6]\n",
        "bed_data = bed_data.reset_index(drop=True)\n",
        "bed_data = bed_data.assign(Hour2 = lambda x: bed_data.Hour**2)\n",
        "bed_data = bed_data.assign(Hour3 = lambda x: bed_data.Hour**3)\n",
        "print(bed_data.head())\n",
        "odd_data = bed_data[bed_data['Day'].isin(odd_days)]\n",
        "even_data = bed_data[bed_data['Day'].isin(even_days)]\n",
        "\n",
        "Xtrain = odd_data.drop(['Sensor_num','Status','Min'], axis = 'columns')\n",
        "ytrain = odd_data['Status']\n",
        "Xtest = even_data.drop(['Sensor_num','Status','Min'], axis = 'columns')\n",
        "ytest = even_data['Status']\n",
        "Xtrain = Xtrain.to_numpy()\n",
        "ytrain = ytrain.to_numpy()\n",
        "Xtest = Xtest.to_numpy()\n",
        "ytest = ytest.to_numpy()"
      ],
      "execution_count": 0,
      "outputs": [
        {
          "output_type": "stream",
          "text": [
            "  Sensor_num Status  Day  Month  Year  Hour  Min  Hour2  Hour3\n",
            "0   Sensor 5      1   23     10  2017    10   27    100   1000\n",
            "1   Sensor 5      0   23     10  2017    10   50    100   1000\n",
            "2   Sensor 5      1   23     10  2017    10   52    100   1000\n",
            "3   Sensor 5      0   23     10  2017    11   28    121   1331\n",
            "4   Sensor 5      1   23     10  2017    11   31    121   1331\n"
          ],
          "name": "stdout"
        }
      ]
    },
    {
      "cell_type": "code",
      "metadata": {
        "id": "e6fuqwvdONBO",
        "colab_type": "code",
        "colab": {}
      },
      "source": [
        "def sensitivity_score(y,yhat):\n",
        "    TP = np.logical_and(y==1,yhat==1).sum()\n",
        "    FN = np.logical_and(y==1,yhat==0).sum()\n",
        "    return TP/(TP+FN)\n",
        "def specificity_score(y,yhat):\n",
        "    TN = np.logical_and(y==0,yhat==0).sum()\n",
        "    FP = np.logical_and(y==0,yhat==1).sum()\n",
        "    return TN/(TN+FP)\n",
        "def balanced_accuracy(y,yhat):\n",
        "    fscore = f1_score(y, yhat)\n",
        "    return fscore\n"
      ],
      "execution_count": 0,
      "outputs": []
    },
    {
      "cell_type": "code",
      "metadata": {
        "id": "C2z30sfpYOej",
        "colab_type": "code",
        "outputId": "75991896-23b3-4f5e-e350-0d03e3926858",
        "colab": {
          "base_uri": "https://localhost:8080/",
          "height": 300
        }
      },
      "source": [
        "#svm grid search\n",
        "\n",
        "ytrain = ytrain.astype(bool)\n",
        "ytest = ytest.astype(bool)\n",
        "number_of_simulations = 50\n",
        "\n",
        "er = np.zeros(number_of_simulations)\n",
        "er_rf1 = np.zeros(number_of_simulations)\n",
        "er_rf2 = np.zeros(number_of_simulations)\n",
        "er_rf3 = np.zeros(number_of_simulations)\n",
        "er_abc = np.zeros(number_of_simulations)\n",
        "\n",
        "err = np.zeros(number_of_simulations)\n",
        "err_rf1 = np.zeros(number_of_simulations)\n",
        "err_rf2 = np.zeros(number_of_simulations)\n",
        "err_rf3 = np.zeros(number_of_simulations)\n",
        "err_abc = np.zeros(number_of_simulations)\n",
        "for i in tqdm(range(number_of_simulations)):\n",
        "\n",
        "    # Instantiate Models\n",
        "    # Use 500 trees in your random forests and bagged estimator.\n",
        "\n",
        "    bag = BaggingClassifier( DecisionTreeClassifier(), n_estimators=500 )\n",
        "    rf1 = RandomForestClassifier(n_estimators=500, max_features=1)\n",
        "    rf2 = RandomForestClassifier(n_estimators=500, max_features=2)\n",
        "    rf3 = RandomForestClassifier(n_estimators=500, max_features=3)\n",
        "    abc = AdaBoostClassifier(n_estimators=500)\n",
        "    \n",
        "    \n",
        "    bag.fit(Xtrain, ytrain)\n",
        "    rf1.fit(Xtrain, ytrain)\n",
        "    rf2.fit(Xtrain, ytrain)\n",
        "    rf3.fit(Xtrain, ytrain)\n",
        "    abc.fit(Xtrain, ytrain)\n",
        "\n",
        "    yped = bag.predict(Xtrain)\n",
        "    yped_rf1 = rf1.predict(Xtrain)\n",
        "    yped_rf2 = rf2.predict(Xtrain)\n",
        "    yped_rf3 = rf3.predict(Xtrain)\n",
        "    yped_abc = abc.predict(Xtrain)\n",
        "\n",
        "    ypred = bag.predict(Xtest)\n",
        "    ypred_rf1 = rf1.predict(Xtest)\n",
        "    ypred_rf2 = rf2.predict(Xtest)\n",
        "    ypred_rf3 = rf3.predict(Xtest)\n",
        "    ypred_abc = abc.predict(Xtest)\n",
        "    \n",
        "    er[i] =  accuracy_score(ytrain, yped)\n",
        "    er_rf1[i] = accuracy_score(ytrain, yped_rf1)\n",
        "    er_rf2[i] = 1- accuracy_score(ytrain, yped_rf2)\n",
        "    er_rf3[i] = 1- accuracy_score(ytrain, yped_rf3)\n",
        "    er_abc[i] = 1- accuracy_score(ytrain, yped_abc)\n",
        "    # Record the testing error rate (that is 1 - accuracy).\n",
        "    \n",
        "    err[i] = 1 - accuracy_score(ytest, ypred)\n",
        "    err_rf1[i] = 1- accuracy_score(ytest, ypred_rf1)\n",
        "    err_rf2[i] = 1- accuracy_score(ytest, ypred_rf2)\n",
        "    err_rf3[i] = 1- accuracy_score(ytest, ypred_rf3)\n",
        "    err_abc[i] = 1- accuracy_score(ytest, ypred_abc)\n",
        "\n",
        "#Plot the error rates as a box plot by model to complete the assignment.\n",
        "\n",
        "estimators = {'bag': err, 'rf1': err_rf1,'rf2': err_rf2, 'rf3': err_rf3, 'abc': err_abc}\n",
        "\n",
        "df = pd.DataFrame(estimators)\n",
        "\n",
        "df\n",
        "\n",
        "df.boxplot()\n"
      ],
      "execution_count": 0,
      "outputs": [
        {
          "output_type": "stream",
          "text": [
            "100%|██████████| 50/50 [04:04<00:00,  4.89s/it]\n"
          ],
          "name": "stderr"
        },
        {
          "output_type": "execute_result",
          "data": {
            "text/plain": [
              "<matplotlib.axes._subplots.AxesSubplot at 0x7ff74cba0c18>"
            ]
          },
          "metadata": {
            "tags": []
          },
          "execution_count": 8
        },
        {
          "output_type": "display_data",
          "data": {
            "image/png": "[encoded data removed]",
            "text/plain": [
              "<Figure size 432x288 with 1 Axes>"
            ]
          },
          "metadata": {
            "tags": [],
            "needs_background": "light"
          }
        }
      ]
    },
    {
      "cell_type": "code",
      "metadata": {
        "id": "PO53HMAMt80q",
        "colab_type": "code",
        "outputId": "dfa1a29b-13da-4718-9165-2912805762a8",
        "colab": {
          "base_uri": "https://localhost:8080/",
          "height": 105
        }
      },
      "source": [
        "print(f\"bag,train error {1-np.mean(er)} and test error  {1-np.mean(err)}\")\n",
        "print(f\"rf1,train error {1-np.mean(er_rf1)} and test error  {1-np.mean(err_rf1)}  \")\n",
        "print(f\"rf2,train error {1-np.mean(er_rf2)} and test error  {1-np.mean(err_rf2)} \")\n",
        "print(f\"rf3,train error {1-np.mean(er_rf3)} and test error  {1-np.mean(err_rf3)} \")\n",
        "print(f\"abc,train error {1-np.mean(er_abc)} and test error  {1-np.mean(err_abc)} \")"
      ],
      "execution_count": 0,
      "outputs": [
        {
          "output_type": "stream",
          "text": [
            "bag,train error 0.6949152542372882 and test error  0.6522278738555443\n",
            "rf1,train error 0.6949152542372882 and test error  0.6516581892166836  \n",
            "rf2,train error 0.6949152542372882 and test error  0.6514547304170906 \n",
            "rf3,train error 0.6949152542372882 and test error  0.6512512716174974 \n",
            "abc,train error 0.6610169491525424 and test error  0.6663275686673449 \n"
          ],
          "name": "stdout"
        }
      ]
    },
    {
      "cell_type": "code",
      "metadata": {
        "id": "Y7p4Z_1nU-Ol",
        "colab_type": "code",
        "colab": {}
      },
      "source": [
        "#going forward with adaboost classifier\n",
        "abc = AdaBoostClassifier(n_estimators=500)\n"
      ],
      "execution_count": 0,
      "outputs": []
    },
    {
      "cell_type": "code",
      "metadata": {
        "id": "TCb3HY88WDxU",
        "colab_type": "code",
        "colab": {}
      },
      "source": [
        "pip = Pipeline([\n",
        "    ('standardize', StandardScaler()),\n",
        "    ('abc' ,AdaBoostClassifier(n_estimators=500))\n",
        "])\n",
        "scoring={'spec':make_scorer(specificity_score),\n",
        "        'sens':make_scorer(sensitivity_score)}\n",
        "param_grid = {'abc__n_estimators':np.linspace(480,520,dtype=int)}\n",
        "gscv = GridSearchCV(pip, param_grid=param_grid,scoring=scoring, cv = 5,n_jobs=4,refit=\"sens\")\n",
        "fitted = gscv.fit(Xtrain, ytrain)\n",
        "res = pd.DataFrame(gscv.cv_results_)"
      ],
      "execution_count": 0,
      "outputs": []
    },
    {
      "cell_type": "code",
      "metadata": {
        "id": "O1QtKTP9YFmZ",
        "colab_type": "code",
        "outputId": "cdb46170-f3aa-41e0-b530-d61830c674ab",
        "colab": {
          "base_uri": "https://localhost:8080/",
          "height": 105
        }
      },
      "source": [
        "yhat = fitted.predict(Xtest)\n",
        "yhatt = fitted.predict(Xtrain)\n",
        "res = pd.DataFrame(gscv.cv_results_)\n",
        "err = 1 - accuracy_score(ytest, yhat)\n",
        "errt = 1 - accuracy_score(ytrain, yhatt)\n",
        "print(\"test err\",err)\n",
        "print(\"test accu\",(1-err))\n",
        "print(\"test err\",errt)\n",
        "print(\"test accu\",(1-errt))\n",
        "print(gscv.best_params_)"
      ],
      "execution_count": 0,
      "outputs": [
        {
          "output_type": "stream",
          "text": [
            "test err 0.3316378433367243\n",
            "test accu 0.6683621566632757\n",
            "test err 0.34004237288135597\n",
            "test accu 0.659957627118644\n",
            "{'abc__n_estimators': 480}\n"
          ],
          "name": "stdout"
        }
      ]
    },
    {
      "cell_type": "code",
      "metadata": {
        "id": "shz2I0Hzw23Y",
        "colab_type": "code",
        "outputId": "ff873598-c9a1-48f9-d95d-8e9ff697df29",
        "colab": {
          "base_uri": "https://localhost:8080/",
          "height": 324
        }
      },
      "source": [
        "fig,ax =plt.subplots(dpi=80)\n",
        "sb.lineplot(data=res,x='param_abc__n_estimators',y='mean_test_sens')"
      ],
      "execution_count": 0,
      "outputs": [
        {
          "output_type": "execute_result",
          "data": {
            "text/plain": [
              "<matplotlib.axes._subplots.AxesSubplot at 0x7f19901a6048>"
            ]
          },
          "metadata": {
            "tags": []
          },
          "execution_count": 99
        },
        {
          "output_type": "display_data",
          "data": {
            "image/png": "[encoded data removed]",
            "text/plain": [
              "<Figure size 480x320 with 1 Axes>"
            ]
          },
          "metadata": {
            "tags": [],
            "needs_background": "light"
          }
        }
      ]
    },
    {
      "cell_type": "code",
      "metadata": {
        "id": "MXUNen_qU9Vk",
        "colab_type": "code",
        "colab": {}
      },
      "source": [
        "def plot_confusion_matrix(y_true, y_pred, classes,\n",
        "                          normalize=False,\n",
        "                          title=None,\n",
        "                          cmap=plt.cm.Blues):\n",
        "    \"\"\"\n",
        "    This function prints and plots the confusion matrix.\n",
        "    Normalization can be applied by setting `normalize=True`.\n",
        "    \"\"\"\n",
        "    if not title:\n",
        "        if normalize:\n",
        "            title = 'Normalized confusion matrix'\n",
        "        else:\n",
        "            title = 'Confusion matrix, without normalization'\n",
        "\n",
        "    # Compute confusion matrix\n",
        "    cm = confusion_matrix(y_true, y_pred)\n",
        "    # Only use the labels that appear in the data\n",
        "    classes = classes[unique_labels(y_true, y_pred)]\n",
        "    if normalize:\n",
        "        cm = cm.astype('float') / cm.sum(axis=1)[:, np.newaxis]\n",
        "        print(\"Normalized confusion matrix\")\n",
        "    else:\n",
        "        print('Confusion matrix, without normalization')\n",
        "\n",
        "    fig, ax = plt.subplots()\n",
        "    ax.axis('equal')\n",
        "    im = ax.imshow(cm, interpolation='nearest', cmap=cmap)\n",
        "    ax.figure.colorbar(im, ax=ax)\n",
        "    # We want to show all ticks...\n",
        "    ax.set(xticks=np.arange(cm.shape[1]),\n",
        "           yticks=np.arange(cm.shape[0]),\n",
        "           # ... and label them with the respective list entries\n",
        "           xticklabels=classes, yticklabels=classes,\n",
        "           title=title,\n",
        "           ylabel='True label',\n",
        "           xlabel='Predicted label')\n",
        "\n",
        "    # Rotate the tick labels and set their alignment.\n",
        "    plt.setp(ax.get_xticklabels(), rotation=45, ha=\"right\",\n",
        "             rotation_mode=\"anchor\")\n",
        "\n",
        "    # Loop over data dimensions and create text annotations.\n",
        "    fmt = '.2f' if normalize else 'd'\n",
        "    thresh = cm.max() / 2.\n",
        "    for i in range(cm.shape[0]):\n",
        "        for j in range(cm.shape[1]):\n",
        "            ax.text(j, i, format(cm[i, j], fmt),\n",
        "                    ha=\"center\", va=\"center\",\n",
        "                    color=\"white\" if cm[i, j] > thresh else \"black\")\n",
        "    fig.tight_layout();\n",
        "    return ax\n"
      ],
      "execution_count": 0,
      "outputs": []
    },
    {
      "cell_type": "code",
      "metadata": {
        "id": "KEdMuaHiNHid",
        "colab_type": "code",
        "outputId": "106681a2-9229-4558-fd15-00129ee022c2",
        "colab": {
          "base_uri": "https://localhost:8080/",
          "height": 332
        }
      },
      "source": [
        "plot_confusion_matrix(ytest,yhat,np.array([0,1]))\n"
      ],
      "execution_count": 0,
      "outputs": [
        {
          "output_type": "stream",
          "text": [
            "Confusion matrix, without normalization\n"
          ],
          "name": "stdout"
        },
        {
          "output_type": "execute_result",
          "data": {
            "text/plain": [
              "<matplotlib.axes._subplots.AxesSubplot at 0x7f33f89a8668>"
            ]
          },
          "metadata": {
            "tags": []
          },
          "execution_count": 21
        },
        {
          "output_type": "display_data",
          "data": {
            "image/png": "[encoded data removed]",
            "text/plain": [
              "<Figure size 432x288 with 2 Axes>"
            ]
          },
          "metadata": {
            "tags": [],
            "needs_background": "light"
          }
        }
      ]
    }
  ]
}