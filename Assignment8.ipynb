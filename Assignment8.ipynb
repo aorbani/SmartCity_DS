{
 "cells": [
  {
   "cell_type": "markdown",
   "metadata": {},
   "source": [
    "# Assignment 8: Classification with SVMs\n",
    "\n",
    "# Total: 20 Marks \n",
    "## Instructions\n",
    "\n",
    "* Complete the assignment\n",
    "\n",
    "* Once the notebook is complete, restart your kernel and rerun your cells\n",
    "\n",
    "* Submit this notebook to owl by the deadline\n",
    "\n"
   ]
  },
  {
   "cell_type": "code",
   "execution_count": 1,
   "metadata": {
    "collapsed": true
   },
   "outputs": [],
   "source": [
    "#You will need to load your libraries\n",
    "import matplotlib.pyplot as plt \n",
    "import seaborn as sb\n",
    "import numpy as np\n",
    "import pandas as pd\n",
    "from sklearn.model_selection import train_test_split, cross_val_score, GridSearchCV\n",
    "from sklearn.datasets import make_blobs, make_moons\n",
    "from sklearn.model_selection import cross_validate,GridSearchCV\n",
    "from sklearn.metrics import accuracy_score, make_scorer\n",
    "import sklearn.svm as svm\n",
    "from sklearn.pipeline import Pipeline\n",
    "from sklearn.preprocessing import StandardScaler\n",
    "from sklearn.metrics import recall_score, make_scorer, confusion_matrix\n",
    "from sklearn.utils.multiclass import unique_labels\n",
    "\n",
    "import matplotlib.pyplot as plt\n",
    "%matplotlib inline"
   ]
  },
  {
   "cell_type": "markdown",
   "metadata": {},
   "source": [
    "## Part A: 2 Mark\n",
    "\n",
    "Read in the `emails.txt` dataset. Remove the `time`, `winner` and `number` columns."
   ]
  },
  {
   "cell_type": "code",
   "execution_count": 2,
   "metadata": {},
   "outputs": [
    {
     "data": {
      "text/html": [
       "<div>\n",
       "<style scoped>\n",
       "    .dataframe tbody tr th:only-of-type {\n",
       "        vertical-align: middle;\n",
       "    }\n",
       "\n",
       "    .dataframe tbody tr th {\n",
       "        vertical-align: top;\n",
       "    }\n",
       "\n",
       "    .dataframe thead th {\n",
       "        text-align: right;\n",
       "    }\n",
       "</style>\n",
       "<table border=\"1\" class=\"dataframe\">\n",
       "  <thead>\n",
       "    <tr style=\"text-align: right;\">\n",
       "      <th></th>\n",
       "      <th>spam</th>\n",
       "      <th>to_multiple</th>\n",
       "      <th>from</th>\n",
       "      <th>cc</th>\n",
       "      <th>sent_email</th>\n",
       "      <th>image</th>\n",
       "      <th>attach</th>\n",
       "      <th>dollar</th>\n",
       "      <th>inherit</th>\n",
       "      <th>viagra</th>\n",
       "      <th>password</th>\n",
       "      <th>num_char</th>\n",
       "      <th>line_breaks</th>\n",
       "      <th>format</th>\n",
       "      <th>re_subj</th>\n",
       "      <th>exclaim_subj</th>\n",
       "      <th>urgent_subj</th>\n",
       "      <th>exclaim_mess</th>\n",
       "    </tr>\n",
       "  </thead>\n",
       "  <tbody>\n",
       "    <tr>\n",
       "      <th>0</th>\n",
       "      <td>0</td>\n",
       "      <td>0</td>\n",
       "      <td>1</td>\n",
       "      <td>0</td>\n",
       "      <td>0</td>\n",
       "      <td>0</td>\n",
       "      <td>0</td>\n",
       "      <td>0</td>\n",
       "      <td>0</td>\n",
       "      <td>0</td>\n",
       "      <td>0</td>\n",
       "      <td>11.370</td>\n",
       "      <td>202</td>\n",
       "      <td>1</td>\n",
       "      <td>0</td>\n",
       "      <td>0</td>\n",
       "      <td>0</td>\n",
       "      <td>0</td>\n",
       "    </tr>\n",
       "    <tr>\n",
       "      <th>1</th>\n",
       "      <td>0</td>\n",
       "      <td>0</td>\n",
       "      <td>1</td>\n",
       "      <td>0</td>\n",
       "      <td>0</td>\n",
       "      <td>0</td>\n",
       "      <td>0</td>\n",
       "      <td>0</td>\n",
       "      <td>0</td>\n",
       "      <td>0</td>\n",
       "      <td>0</td>\n",
       "      <td>10.504</td>\n",
       "      <td>202</td>\n",
       "      <td>1</td>\n",
       "      <td>0</td>\n",
       "      <td>0</td>\n",
       "      <td>0</td>\n",
       "      <td>1</td>\n",
       "    </tr>\n",
       "    <tr>\n",
       "      <th>2</th>\n",
       "      <td>0</td>\n",
       "      <td>0</td>\n",
       "      <td>1</td>\n",
       "      <td>0</td>\n",
       "      <td>0</td>\n",
       "      <td>0</td>\n",
       "      <td>0</td>\n",
       "      <td>4</td>\n",
       "      <td>1</td>\n",
       "      <td>0</td>\n",
       "      <td>0</td>\n",
       "      <td>7.773</td>\n",
       "      <td>192</td>\n",
       "      <td>1</td>\n",
       "      <td>0</td>\n",
       "      <td>0</td>\n",
       "      <td>0</td>\n",
       "      <td>6</td>\n",
       "    </tr>\n",
       "    <tr>\n",
       "      <th>3</th>\n",
       "      <td>0</td>\n",
       "      <td>0</td>\n",
       "      <td>1</td>\n",
       "      <td>0</td>\n",
       "      <td>0</td>\n",
       "      <td>0</td>\n",
       "      <td>0</td>\n",
       "      <td>0</td>\n",
       "      <td>0</td>\n",
       "      <td>0</td>\n",
       "      <td>0</td>\n",
       "      <td>13.256</td>\n",
       "      <td>255</td>\n",
       "      <td>1</td>\n",
       "      <td>0</td>\n",
       "      <td>0</td>\n",
       "      <td>0</td>\n",
       "      <td>48</td>\n",
       "    </tr>\n",
       "    <tr>\n",
       "      <th>4</th>\n",
       "      <td>0</td>\n",
       "      <td>0</td>\n",
       "      <td>1</td>\n",
       "      <td>0</td>\n",
       "      <td>0</td>\n",
       "      <td>0</td>\n",
       "      <td>0</td>\n",
       "      <td>0</td>\n",
       "      <td>0</td>\n",
       "      <td>0</td>\n",
       "      <td>2</td>\n",
       "      <td>1.231</td>\n",
       "      <td>29</td>\n",
       "      <td>0</td>\n",
       "      <td>0</td>\n",
       "      <td>0</td>\n",
       "      <td>0</td>\n",
       "      <td>1</td>\n",
       "    </tr>\n",
       "  </tbody>\n",
       "</table>\n",
       "</div>"
      ],
      "text/plain": [
       "   spam  to_multiple  from  cc  sent_email  image  attach  dollar  inherit  \\\n",
       "0     0            0     1   0           0      0       0       0        0   \n",
       "1     0            0     1   0           0      0       0       0        0   \n",
       "2     0            0     1   0           0      0       0       4        1   \n",
       "3     0            0     1   0           0      0       0       0        0   \n",
       "4     0            0     1   0           0      0       0       0        0   \n",
       "\n",
       "   viagra  password  num_char  line_breaks  format  re_subj  exclaim_subj  \\\n",
       "0       0         0    11.370          202       1        0             0   \n",
       "1       0         0    10.504          202       1        0             0   \n",
       "2       0         0     7.773          192       1        0             0   \n",
       "3       0         0    13.256          255       1        0             0   \n",
       "4       0         2     1.231           29       0        0             0   \n",
       "\n",
       "   urgent_subj  exclaim_mess  \n",
       "0            0             0  \n",
       "1            0             1  \n",
       "2            0             6  \n",
       "3            0            48  \n",
       "4            0             1  "
      ]
     },
     "execution_count": 2,
     "metadata": {},
     "output_type": "execute_result"
    }
   ],
   "source": [
    "df = pd.read_csv('email.txt',delimiter='\\t') #Reading data\n",
    "\n",
    "#Dropping some variables\n",
    "df = df.drop(['time','winner','number'], axis='columns')\n",
    "\n",
    "df.head()"
   ]
  },
  {
   "cell_type": "markdown",
   "metadata": {},
   "source": [
    "## Part B: 2 Mark\n",
    "\n",
    "Split the data into train and test.  Hold out 50% of observations as the test set.  Pass `random_state=0` to `train_test_split` to ensure you get the same train and tests sets as the solution."
   ]
  },
  {
   "cell_type": "code",
   "execution_count": 3,
   "metadata": {},
   "outputs": [],
   "source": [
    "y = df.spam\n",
    "X = df.drop('spam', axis = 'columns')\n",
    "\n",
    "\n",
    "#Splitting data\n",
    "Xtrain,Xtest,ytrain,ytest = train_test_split(X,y, test_size=0.5, random_state=0)  #splitting data"
   ]
  },
  {
   "cell_type": "markdown",
   "metadata": {},
   "source": [
    "## Part C: 1 Mark\n",
    "\n",
    "Create a pipeline for your support vector machine.  You can start with a `kernel=\"rbf\"` and `gamma=\"auto\"`.  Scale your inputs before passing them to your model by including a `StandardScaler`."
   ]
  },
  {
   "cell_type": "code",
   "execution_count": 4,
   "metadata": {
    "collapsed": true
   },
   "outputs": [],
   "source": [
    "model_pipeline = Pipeline([\n",
    "    ('standardize', StandardScaler()),\n",
    "    ('svm', svm.SVC(kernel='rbf',gamma='auto') )\n",
    "])"
   ]
  },
  {
   "cell_type": "markdown",
   "metadata": {},
   "source": [
    "## Part D: 3 Marks\n",
    "\n",
    "Use your model to construct a confusion matrix by fitting and predicting on the training data (I've inlcluded a little helper function to make looking at the confusion matrix a little easier). Then answer the following using the confusion matrix (don't use sklearn's functions):\n",
    "\n",
    "* What is your model's training accuracy?\n",
    "* What is your model's training precision?\n",
    "* What is your model's training recall?"
   ]
  },
  {
   "cell_type": "code",
   "execution_count": 5,
   "metadata": {},
   "outputs": [
    {
     "name": "stdout",
     "output_type": "stream",
     "text": [
      "Confusion matrix, without normalization\n"
     ]
    },
    {
     "data": {
      "image/png": "[encoded data removed]",
      "text/plain": [
       "<Figure size 432x288 with 2 Axes>"
      ]
     },
     "metadata": {},
     "output_type": "display_data"
    }
   ],
   "source": [
    "def plot_confusion_matrix(y_true, y_pred, classes,\n",
    "                          normalize=False,\n",
    "                          title=None,\n",
    "                          cmap=plt.cm.Blues):\n",
    "    \"\"\"\n",
    "    This function prints and plots the confusion matrix.\n",
    "    Normalization can be applied by setting `normalize=True`.\n",
    "    \"\"\"\n",
    "    if not title:\n",
    "        if normalize:\n",
    "            title = 'Normalized confusion matrix'\n",
    "        else:\n",
    "            title = 'Confusion matrix, without normalization'\n",
    "\n",
    "    # Compute confusion matrix\n",
    "    cm = confusion_matrix(y_true, y_pred)\n",
    "    # Only use the labels that appear in the data\n",
    "    classes = classes[unique_labels(y_true, y_pred)]\n",
    "    if normalize:\n",
    "        cm = cm.astype('float') / cm.sum(axis=1)[:, np.newaxis]\n",
    "        print(\"Normalized confusion matrix\")\n",
    "    else:\n",
    "        print('Confusion matrix, without normalization')\n",
    "\n",
    "    fig, ax = plt.subplots()\n",
    "    ax.axis('equal')\n",
    "    im = ax.imshow(cm, interpolation='nearest', cmap=cmap)\n",
    "    ax.figure.colorbar(im, ax=ax)\n",
    "    # We want to show all ticks...\n",
    "    ax.set(xticks=np.arange(cm.shape[1]),\n",
    "           yticks=np.arange(cm.shape[0]),\n",
    "           # ... and label them with the respective list entries\n",
    "           xticklabels=classes, yticklabels=classes,\n",
    "           title=title,\n",
    "           ylabel='True label',\n",
    "           xlabel='Predicted label')\n",
    "\n",
    "    # Rotate the tick labels and set their alignment.\n",
    "    plt.setp(ax.get_xticklabels(), rotation=45, ha=\"right\",\n",
    "             rotation_mode=\"anchor\")\n",
    "\n",
    "    # Loop over data dimensions and create text annotations.\n",
    "    fmt = '.2f' if normalize else 'd'\n",
    "    thresh = cm.max() / 2.\n",
    "    for i in range(cm.shape[0]):\n",
    "        for j in range(cm.shape[1]):\n",
    "            ax.text(j, i, format(cm[i, j], fmt),\n",
    "                    ha=\"center\", va=\"center\",\n",
    "                    color=\"white\" if cm[i, j] > thresh else \"black\")\n",
    "    fig.tight_layout();\n",
    "    return ax,cm\n",
    "\n",
    "model_pipeline.fit(Xtrain, ytrain)\n",
    "\n",
    "ypred = model_pipeline.predict(Xtrain)\n",
    "\n",
    "ax,cm = plot_confusion_matrix(ytrain, ypred, classes= np.array([0,1]))\n"
   ]
  },
  {
   "cell_type": "code",
   "execution_count": 6,
   "metadata": {},
   "outputs": [
    {
     "name": "stdout",
     "output_type": "stream",
     "text": [
      "Training accuracy: 0.9153061224489796\n",
      "Training precision: 0.8260869565217391\n",
      "Training recall: 0.10497237569060773\n"
     ]
    }
   ],
   "source": [
    "def get_accuracies(cm):\n",
    "\n",
    "    tn = cm[0,0]\n",
    "    fp = cm[0,1]\n",
    "    tp = cm[1,1]\n",
    "    fn = cm[1,0]\n",
    "    \n",
    "\n",
    "    # Training Accuracy\n",
    "    trainacc = (tp+tn)/(tp+tn+fp+fn)\n",
    "    \n",
    "    print('Training accuracy:', trainacc)\n",
    "\n",
    "\n",
    "    # Precision\n",
    "    precision = tp /(tp+fp)\n",
    "    \n",
    "    print('Training precision:', precision)\n",
    "    \n",
    "    #Recall\n",
    "    recall = tp /(tp+fn)\n",
    "    \n",
    "    print('Training recall:', recall)\n",
    "    \n",
    "\n",
    "    \n",
    "    \n",
    "get_accuracies(cm)"
   ]
  },
  {
   "cell_type": "markdown",
   "metadata": {},
   "source": [
    "# Part E: 4 Marks\n",
    "\n",
    "Imagine you are designing a model to filter out spam.  \n",
    "\n",
    "* Would you want your model to have a high a high sensitivity?  Why or why not?  Answer in no more than 3 sentences.\n",
    "\n",
    "* Would you wanr your model to have a low specificity? Why or why not? Answer in no more than 3 sentences\n",
    "\n",
    "---\n",
    "\n",
    "Answers:\n",
    "\n",
    "1) Would you want your model to have a high a high sensitivity?\n",
    "\n",
    "No, I would like to have low sensitivity, because if the sensitivity is too high, many e mails will go to the\n",
    "spam folder including important e mails. \n",
    "\n",
    "\n",
    "2) Would you wanr your model to have a low specificity?\n",
    "\n",
    "No, I would like the model to have high specificity. This will lead to detecting more true negatives, i.e, more non-spam e mails accurately. \n"
   ]
  },
  {
   "cell_type": "markdown",
   "metadata": {},
   "source": [
    "## Part E:  1 Mark\n",
    "\n",
    "Estimate your support vector machine's out of sample sensitivity by using 5 fold cross validation."
   ]
  },
  {
   "cell_type": "code",
   "execution_count": 7,
   "metadata": {},
   "outputs": [
    {
     "name": "stdout",
     "output_type": "stream",
     "text": [
      "Sensitivity: 0.13069233617178824\n"
     ]
    }
   ],
   "source": [
    "scoring = ['recall']\n",
    "scores = cross_validate(model_pipeline, X, y, scoring=scoring,cv=5, return_train_score=True)\n",
    "print(f\"Sensitivity: {scores['test_recall'].mean()}\")\n"
   ]
  },
  {
   "cell_type": "markdown",
   "metadata": {},
   "source": [
    "## Part F: 4 Marks\n",
    "\n",
    "Read the documentation for `GridSearchCV` in order to learn how to montior multiple metrics during grid search cross validation.  Once you have learned how to keep track of multiple scores, implement a grid search for your pipeline which monitors sensitivity and specificity. You will need to tell `GridsearchCV` which to prefer when it does the model selection (see the `refit` argument in the documentation). Note, sklearn does not have a `specificity_score` so you need to write your own function to do so. Search over your pipeline's kernel and gamma using `kernel = ['rbf','sigmoid']` and `gamma = np.linspace(1e-5, 5)`."
   ]
  },
  {
   "cell_type": "code",
   "execution_count": 8,
   "metadata": {
    "collapsed": true
   },
   "outputs": [],
   "source": [
    "model_pipeline = Pipeline([\n",
    "    ('standardize', StandardScaler()),\n",
    "    ('svm', svm.SVC() )\n",
    "])\n",
    "\n",
    "\n",
    "scoring = {\n",
    "    'sensitivity': make_scorer(recall_score),\n",
    "    'specificity': make_scorer(recall_score,pos_label=0)\n",
    "}"
   ]
  },
  {
   "cell_type": "code",
   "execution_count": 9,
   "metadata": {},
   "outputs": [],
   "source": [
    "#Parameter search using GridsearchCV\n",
    "gs = GridSearchCV(model_pipeline,\n",
    "                  param_grid={'svm__kernel' : ['rbf','sigmoid'] , 'svm__gamma' : np.linspace(1e-5, 5) },\n",
    "                  scoring=scoring, refit='sensitivity', return_train_score=True, cv = 10)\n",
    "gs.fit(X, y)\n",
    "results = gs.cv_results_\n",
    "\n"
   ]
  },
  {
   "cell_type": "markdown",
   "metadata": {},
   "source": [
    "## Part G: 1 Mark\n",
    "\n",
    "What was the cross validated sensitivity for your regularized model?\n"
   ]
  },
  {
   "cell_type": "code",
   "execution_count": 10,
   "metadata": {},
   "outputs": [
    {
     "name": "stdout",
     "output_type": "stream",
     "text": [
      "Mean sensitivity from the best model: 0.2503753753753754\n"
     ]
    }
   ],
   "source": [
    "\n",
    "res = pd.DataFrame(results) #Turning CV results into a data frame\n",
    "\n",
    "best_score = gs.best_score_\n",
    "print(\"Mean sensitivity from the best model:\",best_score)\n",
    "\n"
   ]
  },
  {
   "cell_type": "markdown",
   "metadata": {},
   "source": [
    "## Part H: 1 Mark\n",
    "\n",
    "Plot how the mean test sensitivity and specificity changes as `gamma` changes.  Color the lines according to `kernel`."
   ]
  },
  {
   "cell_type": "code",
   "execution_count": 11,
   "metadata": {},
   "outputs": [
    {
     "data": {
      "text/plain": [
       "Text(0, 0.5, 'test specificity')"
      ]
     },
     "execution_count": 11,
     "metadata": {},
     "output_type": "execute_result"
    },
    {
     "data": {
      "image/png": "[encoded data removed]",
      "text/plain": [
       "<Figure size 720x480 with 1 Axes>"
      ]
     },
     "metadata": {},
     "output_type": "display_data"
    },
    {
     "data": {
      "image/png": "[encoded data removed]",
      "text/plain": [
       "<Figure size 720x480 with 1 Axes>"
      ]
     },
     "metadata": {},
     "output_type": "display_data"
    }
   ],
   "source": [
    "fig, ax = plt.subplots(dpi = 120)\n",
    "sb.lineplot(data = res, x = 'param_svm__gamma', y = 'mean_test_sensitivity',hue = 'param_svm__kernel')\n",
    "ax.set_xlabel('Gamma')\n",
    "ax.set_ylabel('test sensitivity')\n",
    "fig, ax = plt.subplots(dpi = 120)\n",
    "sb.lineplot(data = res, x = 'param_svm__gamma', y = 'mean_test_specificity', hue = 'param_svm__kernel')\n",
    "ax.set_xlabel('Gamma')\n",
    "ax.set_ylabel('test specificity')"
   ]
  },
  {
   "cell_type": "markdown",
   "metadata": {},
   "source": [
    "# Part I: 1 Mark\n",
    "\n",
    "Use your selected model to predict on the test set.  Compute the test sensitivity and specificity.  Interpret the sensitivity and specificity in terms of the conditional probabilities.\n"
   ]
  },
  {
   "cell_type": "code",
   "execution_count": 12,
   "metadata": {},
   "outputs": [
    {
     "name": "stdout",
     "output_type": "stream",
     "text": [
      "Confusion matrix, without normalization\n",
      "Training accuracy: 0.9316675165731769\n",
      "Training precision: 0.8421052631578947\n",
      "Training recall: 0.34408602150537637\n"
     ]
    },
    {
     "data": {
      "image/png": "[encoded data removed]",
      "text/plain": [
       "<Figure size 432x288 with 2 Axes>"
      ]
     },
     "metadata": {},
     "output_type": "display_data"
    }
   ],
   "source": [
    "best_model = gs.best_estimator_\n",
    "\n",
    "best_model.fit(Xtest,ytest)\n",
    "ypred=best_model.predict(Xtest)\n",
    "ax,cm = plot_confusion_matrix(ytest, ypred, classes= np.array([0,1]))\n",
    "\n",
    "get_accuracies(cm)"
   ]
  },
  {
   "cell_type": "markdown",
   "metadata": {},
   "source": [
    "The model has a specificity of 84%. This means that the model can detetct a good e mail with an 84% accuracy.\n",
    "\n",
    "The sensitivity tells us that there is a probability of 34% that we identify a spam email given that it is a spam. "
   ]
  },
  {
   "cell_type": "code",
   "execution_count": null,
   "metadata": {
    "collapsed": true
   },
   "outputs": [],
   "source": []
  },
  {
   "cell_type": "code",
   "execution_count": null,
   "metadata": {
    "collapsed": true
   },
   "outputs": [],
   "source": []
  },
  {
   "cell_type": "code",
   "execution_count": null,
   "metadata": {
    "collapsed": true
   },
   "outputs": [],
   "source": []
  }
 ],
 "metadata": {
  "kernelspec": {
   "display_name": "Python 3",
   "language": "python",
   "name": "python3"
  },
  "language_info": {
   "codemirror_mode": {
    "name": "ipython",
    "version": 3
   },
   "file_extension": ".py",
   "mimetype": "text/x-python",
   "name": "python",
   "nbconvert_exporter": "python",
   "pygments_lexer": "ipython3",
   "version": "3.7.4"
  }
 },
 "nbformat": 4,
 "nbformat_minor": 4
}
