{
 "cells": [
  {
   "cell_type": "markdown",
   "metadata": {},
   "source": [
    "#### Smart City project:\n",
    "\n",
    "This code is just to visualize json files."
   ]
  },
  {
   "cell_type": "code",
   "execution_count": 1,
   "metadata": {
    "collapsed": true
   },
   "outputs": [],
   "source": [
    "import os\n",
    "import shutil\n",
    "\n",
    "import matplotlib.pyplot as plt\n",
    "import numpy as np\n",
    "\n",
    "import pandas as pd\n",
    "import seaborn as sns\n",
    "pd.set_option('display.max_columns', 500)\n",
    "from IPython.display import display\n",
    "\n",
    "%matplotlib inline"
   ]
  },
  {
   "cell_type": "code",
   "execution_count": 75,
   "metadata": {},
   "outputs": [],
   "source": [
    "df = pd.read_json('uwo_sample_tls.json')  #Reading a json file into panda df.\n",
    "\n",
    "#df.head()\n",
    "\n"
   ]
  },
  {
   "cell_type": "code",
   "execution_count": 76,
   "metadata": {},
   "outputs": [
    {
     "data": {
      "text/html": [
       "<div>\n",
       "<style>\n",
       "    .dataframe thead tr:only-child th {\n",
       "        text-align: right;\n",
       "    }\n",
       "\n",
       "    .dataframe thead th {\n",
       "        text-align: left;\n",
       "    }\n",
       "\n",
       "    .dataframe tbody tr th {\n",
       "        vertical-align: top;\n",
       "    }\n",
       "</style>\n",
       "<table border=\"1\" class=\"dataframe\">\n",
       "  <thead>\n",
       "    <tr style=\"text-align: right;\">\n",
       "      <th></th>\n",
       "      <th>House_Number</th>\n",
       "      <th>Sensor_num</th>\n",
       "      <th>Status</th>\n",
       "      <th>Day</th>\n",
       "      <th>Month</th>\n",
       "      <th>Year</th>\n",
       "      <th>Hour</th>\n",
       "      <th>Min</th>\n",
       "      <th>Counter</th>\n",
       "      <th>Time_elapsed</th>\n",
       "    </tr>\n",
       "  </thead>\n",
       "  <tbody>\n",
       "    <tr>\n",
       "      <th>197</th>\n",
       "      <td>Res3001</td>\n",
       "      <td>Sensor 8</td>\n",
       "      <td>ABS Bed Sensor Occupied</td>\n",
       "      <td>23</td>\n",
       "      <td>10</td>\n",
       "      <td>2017</td>\n",
       "      <td>22</td>\n",
       "      <td>10</td>\n",
       "      <td>1330</td>\n",
       "      <td>1</td>\n",
       "    </tr>\n",
       "    <tr>\n",
       "      <th>202</th>\n",
       "      <td>Res3001</td>\n",
       "      <td>Sensor 8</td>\n",
       "      <td>ABS Bed Sensor Vacated</td>\n",
       "      <td>24</td>\n",
       "      <td>10</td>\n",
       "      <td>2017</td>\n",
       "      <td>4</td>\n",
       "      <td>42</td>\n",
       "      <td>282</td>\n",
       "      <td>325</td>\n",
       "    </tr>\n",
       "    <tr>\n",
       "      <th>206</th>\n",
       "      <td>Res3001</td>\n",
       "      <td>Sensor 8</td>\n",
       "      <td>ABS Bed Sensor Occupied</td>\n",
       "      <td>24</td>\n",
       "      <td>10</td>\n",
       "      <td>2017</td>\n",
       "      <td>4</td>\n",
       "      <td>46</td>\n",
       "      <td>286</td>\n",
       "      <td>1</td>\n",
       "    </tr>\n",
       "    <tr>\n",
       "      <th>213</th>\n",
       "      <td>Res3001</td>\n",
       "      <td>Sensor 8</td>\n",
       "      <td>ABS Bed Sensor Vacated</td>\n",
       "      <td>24</td>\n",
       "      <td>10</td>\n",
       "      <td>2017</td>\n",
       "      <td>8</td>\n",
       "      <td>30</td>\n",
       "      <td>510</td>\n",
       "      <td>1</td>\n",
       "    </tr>\n",
       "    <tr>\n",
       "      <th>322</th>\n",
       "      <td>Res3001</td>\n",
       "      <td>Sensor 8</td>\n",
       "      <td>ABS Bed Sensor Occupied</td>\n",
       "      <td>24</td>\n",
       "      <td>10</td>\n",
       "      <td>2017</td>\n",
       "      <td>23</td>\n",
       "      <td>0</td>\n",
       "      <td>1380</td>\n",
       "      <td>13</td>\n",
       "    </tr>\n",
       "    <tr>\n",
       "      <th>327</th>\n",
       "      <td>Res3001</td>\n",
       "      <td>Sensor 8</td>\n",
       "      <td>ABS Bed Sensor Vacated</td>\n",
       "      <td>25</td>\n",
       "      <td>10</td>\n",
       "      <td>2017</td>\n",
       "      <td>5</td>\n",
       "      <td>8</td>\n",
       "      <td>308</td>\n",
       "      <td>1</td>\n",
       "    </tr>\n",
       "    <tr>\n",
       "      <th>328</th>\n",
       "      <td>Res3001</td>\n",
       "      <td>Sensor 8</td>\n",
       "      <td>ABS Bed Sensor Occupied</td>\n",
       "      <td>25</td>\n",
       "      <td>10</td>\n",
       "      <td>2017</td>\n",
       "      <td>5</td>\n",
       "      <td>11</td>\n",
       "      <td>311</td>\n",
       "      <td>3</td>\n",
       "    </tr>\n",
       "    <tr>\n",
       "      <th>331</th>\n",
       "      <td>Res3001</td>\n",
       "      <td>Sensor 8</td>\n",
       "      <td>ABS Bed Sensor Vacated</td>\n",
       "      <td>25</td>\n",
       "      <td>10</td>\n",
       "      <td>2017</td>\n",
       "      <td>8</td>\n",
       "      <td>52</td>\n",
       "      <td>532</td>\n",
       "      <td>0</td>\n",
       "    </tr>\n",
       "    <tr>\n",
       "      <th>425</th>\n",
       "      <td>Res3001</td>\n",
       "      <td>Sensor 8</td>\n",
       "      <td>ABS Bed Sensor Occupied</td>\n",
       "      <td>25</td>\n",
       "      <td>10</td>\n",
       "      <td>2017</td>\n",
       "      <td>23</td>\n",
       "      <td>24</td>\n",
       "      <td>1404</td>\n",
       "      <td>2</td>\n",
       "    </tr>\n",
       "    <tr>\n",
       "      <th>431</th>\n",
       "      <td>Res3001</td>\n",
       "      <td>Sensor 8</td>\n",
       "      <td>ABS Bed Sensor Vacated</td>\n",
       "      <td>26</td>\n",
       "      <td>10</td>\n",
       "      <td>2017</td>\n",
       "      <td>2</td>\n",
       "      <td>54</td>\n",
       "      <td>174</td>\n",
       "      <td>0</td>\n",
       "    </tr>\n",
       "    <tr>\n",
       "      <th>433</th>\n",
       "      <td>Res3001</td>\n",
       "      <td>Sensor 8</td>\n",
       "      <td>ABS Bed Sensor Occupied</td>\n",
       "      <td>26</td>\n",
       "      <td>10</td>\n",
       "      <td>2017</td>\n",
       "      <td>3</td>\n",
       "      <td>1</td>\n",
       "      <td>181</td>\n",
       "      <td>5</td>\n",
       "    </tr>\n",
       "    <tr>\n",
       "      <th>437</th>\n",
       "      <td>Res3001</td>\n",
       "      <td>Sensor 8</td>\n",
       "      <td>ABS Bed Sensor Vacated</td>\n",
       "      <td>26</td>\n",
       "      <td>10</td>\n",
       "      <td>2017</td>\n",
       "      <td>7</td>\n",
       "      <td>51</td>\n",
       "      <td>471</td>\n",
       "      <td>0</td>\n",
       "    </tr>\n",
       "    <tr>\n",
       "      <th>440</th>\n",
       "      <td>Res3001</td>\n",
       "      <td>Sensor 8</td>\n",
       "      <td>ABS Bed Sensor Occupied</td>\n",
       "      <td>26</td>\n",
       "      <td>10</td>\n",
       "      <td>2017</td>\n",
       "      <td>7</td>\n",
       "      <td>54</td>\n",
       "      <td>474</td>\n",
       "      <td>1</td>\n",
       "    </tr>\n",
       "    <tr>\n",
       "      <th>446</th>\n",
       "      <td>Res3001</td>\n",
       "      <td>Sensor 8</td>\n",
       "      <td>ABS Bed Sensor Vacated</td>\n",
       "      <td>26</td>\n",
       "      <td>10</td>\n",
       "      <td>2017</td>\n",
       "      <td>8</td>\n",
       "      <td>44</td>\n",
       "      <td>524</td>\n",
       "      <td>1</td>\n",
       "    </tr>\n",
       "    <tr>\n",
       "      <th>538</th>\n",
       "      <td>Res3001</td>\n",
       "      <td>Sensor 8</td>\n",
       "      <td>ABS Bed Sensor Occupied</td>\n",
       "      <td>26</td>\n",
       "      <td>10</td>\n",
       "      <td>2017</td>\n",
       "      <td>22</td>\n",
       "      <td>19</td>\n",
       "      <td>1339</td>\n",
       "      <td>2</td>\n",
       "    </tr>\n",
       "    <tr>\n",
       "      <th>546</th>\n",
       "      <td>Res3001</td>\n",
       "      <td>Sensor 8</td>\n",
       "      <td>ABS Bed Sensor Vacated</td>\n",
       "      <td>27</td>\n",
       "      <td>10</td>\n",
       "      <td>2017</td>\n",
       "      <td>8</td>\n",
       "      <td>9</td>\n",
       "      <td>489</td>\n",
       "      <td>0</td>\n",
       "    </tr>\n",
       "    <tr>\n",
       "      <th>548</th>\n",
       "      <td>Res3001</td>\n",
       "      <td>Sensor 8</td>\n",
       "      <td>ABS Bed Sensor Occupied</td>\n",
       "      <td>27</td>\n",
       "      <td>10</td>\n",
       "      <td>2017</td>\n",
       "      <td>8</td>\n",
       "      <td>13</td>\n",
       "      <td>493</td>\n",
       "      <td>2</td>\n",
       "    </tr>\n",
       "    <tr>\n",
       "      <th>552</th>\n",
       "      <td>Res3001</td>\n",
       "      <td>Sensor 8</td>\n",
       "      <td>ABS Bed Sensor Vacated</td>\n",
       "      <td>27</td>\n",
       "      <td>10</td>\n",
       "      <td>2017</td>\n",
       "      <td>8</td>\n",
       "      <td>31</td>\n",
       "      <td>511</td>\n",
       "      <td>0</td>\n",
       "    </tr>\n",
       "    <tr>\n",
       "      <th>641</th>\n",
       "      <td>Res3001</td>\n",
       "      <td>Sensor 8</td>\n",
       "      <td>ABS Bed Sensor Occupied</td>\n",
       "      <td>27</td>\n",
       "      <td>10</td>\n",
       "      <td>2017</td>\n",
       "      <td>23</td>\n",
       "      <td>7</td>\n",
       "      <td>1387</td>\n",
       "      <td>0</td>\n",
       "    </tr>\n",
       "    <tr>\n",
       "      <th>646</th>\n",
       "      <td>Res3001</td>\n",
       "      <td>Sensor 8</td>\n",
       "      <td>ABS Bed Sensor Vacated</td>\n",
       "      <td>28</td>\n",
       "      <td>10</td>\n",
       "      <td>2017</td>\n",
       "      <td>7</td>\n",
       "      <td>9</td>\n",
       "      <td>429</td>\n",
       "      <td>0</td>\n",
       "    </tr>\n",
       "  </tbody>\n",
       "</table>\n",
       "</div>"
      ],
      "text/plain": [
       "    House_Number Sensor_num                   Status Day Month  Year Hour Min  \\\n",
       "197      Res3001   Sensor 8  ABS Bed Sensor Occupied  23    10  2017   22  10   \n",
       "202      Res3001   Sensor 8   ABS Bed Sensor Vacated  24    10  2017    4  42   \n",
       "206      Res3001   Sensor 8  ABS Bed Sensor Occupied  24    10  2017    4  46   \n",
       "213      Res3001   Sensor 8   ABS Bed Sensor Vacated  24    10  2017    8  30   \n",
       "322      Res3001   Sensor 8  ABS Bed Sensor Occupied  24    10  2017   23   0   \n",
       "327      Res3001   Sensor 8   ABS Bed Sensor Vacated  25    10  2017    5   8   \n",
       "328      Res3001   Sensor 8  ABS Bed Sensor Occupied  25    10  2017    5  11   \n",
       "331      Res3001   Sensor 8   ABS Bed Sensor Vacated  25    10  2017    8  52   \n",
       "425      Res3001   Sensor 8  ABS Bed Sensor Occupied  25    10  2017   23  24   \n",
       "431      Res3001   Sensor 8   ABS Bed Sensor Vacated  26    10  2017    2  54   \n",
       "433      Res3001   Sensor 8  ABS Bed Sensor Occupied  26    10  2017    3   1   \n",
       "437      Res3001   Sensor 8   ABS Bed Sensor Vacated  26    10  2017    7  51   \n",
       "440      Res3001   Sensor 8  ABS Bed Sensor Occupied  26    10  2017    7  54   \n",
       "446      Res3001   Sensor 8   ABS Bed Sensor Vacated  26    10  2017    8  44   \n",
       "538      Res3001   Sensor 8  ABS Bed Sensor Occupied  26    10  2017   22  19   \n",
       "546      Res3001   Sensor 8   ABS Bed Sensor Vacated  27    10  2017    8   9   \n",
       "548      Res3001   Sensor 8  ABS Bed Sensor Occupied  27    10  2017    8  13   \n",
       "552      Res3001   Sensor 8   ABS Bed Sensor Vacated  27    10  2017    8  31   \n",
       "641      Res3001   Sensor 8  ABS Bed Sensor Occupied  27    10  2017   23   7   \n",
       "646      Res3001   Sensor 8   ABS Bed Sensor Vacated  28    10  2017    7   9   \n",
       "\n",
       "    Counter Time_elapsed  \n",
       "197    1330            1  \n",
       "202     282          325  \n",
       "206     286            1  \n",
       "213     510            1  \n",
       "322    1380           13  \n",
       "327     308            1  \n",
       "328     311            3  \n",
       "331     532            0  \n",
       "425    1404            2  \n",
       "431     174            0  \n",
       "433     181            5  \n",
       "437     471            0  \n",
       "440     474            1  \n",
       "446     524            1  \n",
       "538    1339            2  \n",
       "546     489            0  \n",
       "548     493            2  \n",
       "552     511            0  \n",
       "641    1387            0  \n",
       "646     429            0  "
      ]
     },
     "execution_count": 76,
     "metadata": {},
     "output_type": "execute_result"
    }
   ],
   "source": [
    "#SensorLog3001-12m.txt\n",
    "\n",
    "#df = pd.read_csv('SensorLog3001-12m.txt', sep=\",\", header=None)  #Reading a json file into panda df.\n",
    "data = np.loadtxt(\"SensorLog3001-12m.txt\",dtype='str',delimiter=',')\n",
    "#dataset=pd.read_csv(\"SensorLog3001-12m.txt\", header=None, engine='python', sep=',', names=None, \n",
    "#                index_col=None, usecols=None, squeeze=False)\n",
    "\n",
    "#dataset.head()\n",
    "\n",
    "#print(np.shape(data))\n",
    "\n",
    "dataset = pd.DataFrame({'House_Number': data[:, 0], 'Sensor_num': data[:, 1], 'Status': data[:, 2], 'Day': data[:, 3], 'Month': data[:, 4], 'Year': data[:, 5], 'Hour': data[:, 6], 'Min': data[:, 7], 'Counter': data[:, 8], 'Time_elapsed': data[:, 9]}\n",
    "                      , columns=['House_Number', 'Sensor_num', 'Status','Day','Month', 'Year', 'Hour', 'Min', 'Counter','Time_elapsed' ])\n",
    "\n",
    "dataset.head(40)\n",
    "\n",
    "#bed = dataset[Sensor_num='Sensor 5']\n",
    "\n",
    "bed = dataset[dataset['Sensor_num']=='Sensor 8']\n",
    "\n",
    "bed.head(20)\n"
   ]
  },
  {
   "cell_type": "code",
   "execution_count": 77,
   "metadata": {},
   "outputs": [
    {
     "name": "stderr",
     "output_type": "stream",
     "text": [
      "/anaconda3/lib/python3.6/site-packages/pandas/core/indexing.py:179: SettingWithCopyWarning: \n",
      "A value is trying to be set on a copy of a slice from a DataFrame\n",
      "\n",
      "See the caveats in the documentation: http://pandas.pydata.org/pandas-docs/stable/indexing.html#indexing-view-versus-copy\n",
      "  self._setitem_with_indexer(indexer, value)\n",
      "/anaconda3/lib/python3.6/site-packages/ipykernel_launcher.py:4: SettingWithCopyWarning: \n",
      "A value is trying to be set on a copy of a slice from a DataFrame\n",
      "\n",
      "See the caveats in the documentation: http://pandas.pydata.org/pandas-docs/stable/indexing.html#indexing-view-versus-copy\n",
      "  after removing the cwd from sys.path.\n"
     ]
    },
    {
     "data": {
      "text/plain": [
       "int"
      ]
     },
     "execution_count": 77,
     "metadata": {},
     "output_type": "execute_result"
    }
   ],
   "source": [
    "#bed.head()\n",
    "\n",
    "stacked = bed[['Status']].stack()\n",
    "bed.loc[:, ['Status']] = pd.Series(stacked.factorize()[0], index=stacked.index).unstack()\n",
    "\n",
    "\n",
    "bed.head(20)\n",
    "\n",
    "type(bed.Status.values[0])"
   ]
  },
  {
   "cell_type": "code",
   "execution_count": 78,
   "metadata": {},
   "outputs": [
    {
     "name": "stdout",
     "output_type": "stream",
     "text": [
      "<class 'numpy.int64'>\n"
     ]
    },
    {
     "data": {
      "text/html": [
       "<div>\n",
       "<style>\n",
       "    .dataframe thead tr:only-child th {\n",
       "        text-align: right;\n",
       "    }\n",
       "\n",
       "    .dataframe thead th {\n",
       "        text-align: left;\n",
       "    }\n",
       "\n",
       "    .dataframe tbody tr th {\n",
       "        vertical-align: top;\n",
       "    }\n",
       "</style>\n",
       "<table border=\"1\" class=\"dataframe\">\n",
       "  <thead>\n",
       "    <tr style=\"text-align: right;\">\n",
       "      <th></th>\n",
       "      <th>Status</th>\n",
       "      <th>Day</th>\n",
       "      <th>Month</th>\n",
       "      <th>Counter</th>\n",
       "      <th>Time_elapsed</th>\n",
       "    </tr>\n",
       "  </thead>\n",
       "  <tbody>\n",
       "    <tr>\n",
       "      <th>3937</th>\n",
       "      <td>1</td>\n",
       "      <td>24</td>\n",
       "      <td>11</td>\n",
       "      <td>396</td>\n",
       "      <td>1</td>\n",
       "    </tr>\n",
       "    <tr>\n",
       "      <th>3942</th>\n",
       "      <td>0</td>\n",
       "      <td>24</td>\n",
       "      <td>11</td>\n",
       "      <td>400</td>\n",
       "      <td>2</td>\n",
       "    </tr>\n",
       "    <tr>\n",
       "      <th>3949</th>\n",
       "      <td>1</td>\n",
       "      <td>24</td>\n",
       "      <td>11</td>\n",
       "      <td>519</td>\n",
       "      <td>1</td>\n",
       "    </tr>\n",
       "    <tr>\n",
       "      <th>4048</th>\n",
       "      <td>0</td>\n",
       "      <td>24</td>\n",
       "      <td>11</td>\n",
       "      <td>1355</td>\n",
       "      <td>1</td>\n",
       "    </tr>\n",
       "  </tbody>\n",
       "</table>\n",
       "</div>"
      ],
      "text/plain": [
       "      Status  Day  Month  Counter  Time_elapsed\n",
       "3937       1   24     11      396             1\n",
       "3942       0   24     11      400             2\n",
       "3949       1   24     11      519             1\n",
       "4048       0   24     11     1355             1"
      ]
     },
     "execution_count": 78,
     "metadata": {},
     "output_type": "execute_result"
    },
    {
     "data": {
      "image/png": "[encoded data removed]",
      "text/plain": [
       "<matplotlib.figure.Figure at 0x1266fa5f8>"
      ]
     },
     "metadata": {},
     "output_type": "display_data"
    }
   ],
   "source": [
    "bed_data = bed.drop(['House_Number','Sensor_num','Year','Hour','Min'], axis = 'columns')\n",
    "bed_data[['Status','Day','Month','Counter','Time_elapsed']] = bed_data[['Status','Day','Month','Counter','Time_elapsed']].astype(int)\n",
    "\n",
    "bed_data_24 = bed_data[(bed_data['Day']==24) & (bed_data['Month']==11)]\n",
    "\n",
    "print(type(count[0]))\n",
    "ax = bed_data_24.plot.scatter(x='Counter',y='Status',alpha=0.5)\n",
    "\n",
    "ax.set_xlabel('Status')\n",
    "ax.set_ylabel('Count')\n",
    "\n",
    "bed_data_24.head(100)\n"
   ]
  },
  {
   "cell_type": "code",
   "execution_count": 79,
   "metadata": {},
   "outputs": [
    {
     "name": "stdout",
     "output_type": "stream",
     "text": [
      "<class 'numpy.int64'>\n"
     ]
    },
    {
     "data": {
      "text/plain": [
       "Text(0,0.5,'Status')"
      ]
     },
     "execution_count": 79,
     "metadata": {},
     "output_type": "execute_result"
    },
    {
     "data": {
      "image/png": "[encoded data removed]",
      "text/plain": [
       "<matplotlib.figure.Figure at 0x126709a20>"
      ]
     },
     "metadata": {},
     "output_type": "display_data"
    }
   ],
   "source": [
    "\n",
    "bed_data_25 = bed_data[(bed_data['Day']==25) & (bed_data['Month']==11)]\n",
    "\n",
    "print(type(count[0]))\n",
    "ax = bed_data_25.plot.scatter(x='Counter',y='Status',alpha=0.5)\n",
    "\n",
    "ax.set_xlabel('Count')\n",
    "ax.set_ylabel('Status')"
   ]
  },
  {
   "cell_type": "code",
   "execution_count": 81,
   "metadata": {},
   "outputs": [
    {
     "name": "stdout",
     "output_type": "stream",
     "text": [
      "<class 'numpy.int64'>\n"
     ]
    },
    {
     "data": {
      "text/plain": [
       "Text(0,0.5,'Status')"
      ]
     },
     "execution_count": 81,
     "metadata": {},
     "output_type": "execute_result"
    },
    {
     "data": {
      "image/png": "[encoded data removed]",
      "text/plain": [
       "<matplotlib.figure.Figure at 0x1265ed780>"
      ]
     },
     "metadata": {},
     "output_type": "display_data"
    }
   ],
   "source": [
    "bed_data_26 = bed_data[(bed_data['Day']==26) & (bed_data['Month']==11)]\n",
    "\n",
    "print(type(count[0]))\n",
    "ax = bed_data_26.plot.scatter(x='Counter',y='Status',alpha=0.5)\n",
    "\n",
    "ax.set_xlabel('Count')\n",
    "ax.set_ylabel('Status')"
   ]
  },
  {
   "cell_type": "code",
   "execution_count": 82,
   "metadata": {},
   "outputs": [
    {
     "data": {
      "text/plain": [
       "[<matplotlib.lines.Line2D at 0x122cca550>]"
      ]
     },
     "execution_count": 82,
     "metadata": {},
     "output_type": "execute_result"
    },
    {
     "data": {
      "image/png": "[encoded data removed]",
      "text/plain": [
       "<matplotlib.figure.Figure at 0x126607518>"
      ]
     },
     "metadata": {},
     "output_type": "display_data"
    }
   ],
   "source": [
    "plt.plot(bed_data_26.Status.values)"
   ]
  },
  {
   "cell_type": "code",
   "execution_count": null,
   "metadata": {
    "collapsed": true
   },
   "outputs": [],
   "source": []
  }
 ],
 "metadata": {
  "kernelspec": {
   "display_name": "Python 3",
   "language": "python",
   "name": "python3"
  },
  "language_info": {
   "codemirror_mode": {
    "name": "ipython",
    "version": 3
   },
   "file_extension": ".py",
   "mimetype": "text/x-python",
   "name": "python",
   "nbconvert_exporter": "python",
   "pygments_lexer": "ipython3",
   "version": "3.6.3"
  }
 },
 "nbformat": 4,
 "nbformat_minor": 2
}
