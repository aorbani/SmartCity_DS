{
  "nbformat": 4,
  "nbformat_minor": 0,
  "metadata": {
    "colab": {
      "name": "Untitled0.ipynb",
      "provenance": [],
      "collapsed_sections": [],
      "toc_visible": true
    },
    "kernelspec": {
      "name": "python3",
      "display_name": "Python 3"
    },
    "accelerator": "GPU"
  },
  "cells": [
    {
      "cell_type": "code",
      "metadata": {
        "id": "eBoLsLKqtFNh",
        "colab_type": "code",
        "colab": {}
      },
      "source": [
        "import os\n",
        "import shutil\n",
        "\n",
        "import matplotlib.pyplot as plt\n",
        "import numpy as np\n",
        "import tensorflow as tf\n",
        "import pandas as pd\n",
        "import seaborn as sns\n",
        "pd.set_option('display.max_columns', 500)\n",
        "from IPython.display import display\n",
        "from sklearn.model_selection import train_test_split, cross_val_score\n",
        "from sklearn.datasets import make_blobs, make_moons\n",
        "from sklearn.model_selection import cross_validate,GridSearchCV\n",
        "from sklearn.metrics import accuracy_score, make_scorer\n",
        "import sklearn.svm as svm\n",
        "\n",
        "%matplotlib inline"
      ],
      "execution_count": 0,
      "outputs": []
    },
    {
      "cell_type": "code",
      "metadata": {
        "id": "E0a5UcSFtlJA",
        "colab_type": "code",
        "colab": {
          "resources": {
            "http://localhost:8080/nbextensions/google.colab/files.js": {
              "data": "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",
              "ok": true,
              "headers": [
                [
                  "content-type",
                  "application/javascript"
                ]
              ],
              "status": 200,
              "status_text": ""
            }
          },
          "base_uri": "https://localhost:8080/",
          "height": 74
        },
        "outputId": "c3fc029e-690c-4429-cd8e-d3c5b999fe01"
      },
      "source": [
        "#with open('./SensorLog3001-12m.txt', 'r') as f:\n",
        "\n",
        "#    text=f.read()\n",
        "#data = np.loadtxt(\"SensorLog3001-12m.txt\",dtype='str',delimiter=',')\n",
        "from google.colab import files \n",
        "uploaded = files.upload() "
      ],
      "execution_count": 8,
      "outputs": [
        {
          "output_type": "display_data",
          "data": {
            "text/html": [
              "\n",
              "     <input type=\"file\" id=\"files-9bf991fd-4cba-495c-a62f-d487ff0a9e16\" name=\"files[]\" multiple disabled />\n",
              "     <output id=\"result-9bf991fd-4cba-495c-a62f-d487ff0a9e16\">\n",
              "      Upload widget is only available when the cell has been executed in the\n",
              "      current browser session. Please rerun this cell to enable.\n",
              "      </output>\n",
              "      <script src=\"/nbextensions/google.colab/files.js\"></script> "
            ],
            "text/plain": [
              "<IPython.core.display.HTML object>"
            ]
          },
          "metadata": {
            "tags": []
          }
        },
        {
          "output_type": "stream",
          "text": [
            "Saving SensorLog3001-12m.txt to SensorLog3001-12m.txt\n"
          ],
          "name": "stdout"
        }
      ]
    },
    {
      "cell_type": "code",
      "metadata": {
        "id": "3F3V3b2HwSI0",
        "colab_type": "code",
        "colab": {}
      },
      "source": [
        "import io \n",
        "data = np.loadtxt(io.BytesIO(uploaded['SensorLog3001-12m.txt']),dtype='str',delimiter=',')"
      ],
      "execution_count": 0,
      "outputs": []
    },
    {
      "cell_type": "code",
      "metadata": {
        "id": "MkbNP_GLwpbC",
        "colab_type": "code",
        "colab": {
          "base_uri": "https://localhost:8080/",
          "height": 197
        },
        "outputId": "36d31293-1acb-4218-8de1-5b484272e478"
      },
      "source": [
        "dataset = pd.DataFrame({'House_Number': data[:, 0], 'Sensor_num': data[:, 1], 'Status': data[:, 2], 'Day': data[:, 3], 'Month': data[:, 4], 'Year': data[:, 5], 'Hour': data[:, 6], 'Min': data[:, 7], 'Counter': data[:, 8], 'Time_elapsed': data[:, 9]}\n",
        "                      , columns=['House_Number', 'Sensor_num', 'Status','Day','Month', 'Year', 'Hour', 'Min', 'Counter','Time_elapsed' ])\n"
      ],
      "execution_count": 24,
      "outputs": [
        {
          "output_type": "execute_result",
          "data": {
            "text/html": [
              "<div>\n",
              "<style scoped>\n",
              "    .dataframe tbody tr th:only-of-type {\n",
              "        vertical-align: middle;\n",
              "    }\n",
              "\n",
              "    .dataframe tbody tr th {\n",
              "        vertical-align: top;\n",
              "    }\n",
              "\n",
              "    .dataframe thead th {\n",
              "        text-align: right;\n",
              "    }\n",
              "</style>\n",
              "<table border=\"1\" class=\"dataframe\">\n",
              "  <thead>\n",
              "    <tr style=\"text-align: right;\">\n",
              "      <th></th>\n",
              "      <th>House_Number</th>\n",
              "      <th>Sensor_num</th>\n",
              "      <th>Status</th>\n",
              "      <th>Day</th>\n",
              "      <th>Month</th>\n",
              "      <th>Year</th>\n",
              "      <th>Hour</th>\n",
              "      <th>Min</th>\n",
              "      <th>Counter</th>\n",
              "      <th>Time_elapsed</th>\n",
              "    </tr>\n",
              "  </thead>\n",
              "  <tbody>\n",
              "    <tr>\n",
              "      <th>0</th>\n",
              "      <td>Res3001</td>\n",
              "      <td>Sensor 7</td>\n",
              "      <td>Chair Sensor Briefly Vacated</td>\n",
              "      <td>23</td>\n",
              "      <td>10</td>\n",
              "      <td>2017</td>\n",
              "      <td>9</td>\n",
              "      <td>40</td>\n",
              "      <td>580</td>\n",
              "      <td>0</td>\n",
              "    </tr>\n",
              "    <tr>\n",
              "      <th>1</th>\n",
              "      <td>Res3001</td>\n",
              "      <td>Sensor 7</td>\n",
              "      <td>Chair Sensor Briefly Vacated</td>\n",
              "      <td>23</td>\n",
              "      <td>10</td>\n",
              "      <td>2017</td>\n",
              "      <td>9</td>\n",
              "      <td>43</td>\n",
              "      <td>583</td>\n",
              "      <td>3</td>\n",
              "    </tr>\n",
              "    <tr>\n",
              "      <th>2</th>\n",
              "      <td>Res3001</td>\n",
              "      <td>Sensor 7</td>\n",
              "      <td>Chair Sensor Briefly Vacated</td>\n",
              "      <td>23</td>\n",
              "      <td>10</td>\n",
              "      <td>2017</td>\n",
              "      <td>9</td>\n",
              "      <td>48</td>\n",
              "      <td>588</td>\n",
              "      <td>5</td>\n",
              "    </tr>\n",
              "    <tr>\n",
              "      <th>3</th>\n",
              "      <td>Res3001</td>\n",
              "      <td>Sensor 7</td>\n",
              "      <td>Chair Sensor Briefly Vacated</td>\n",
              "      <td>23</td>\n",
              "      <td>10</td>\n",
              "      <td>2017</td>\n",
              "      <td>9</td>\n",
              "      <td>51</td>\n",
              "      <td>591</td>\n",
              "      <td>3</td>\n",
              "    </tr>\n",
              "    <tr>\n",
              "      <th>4</th>\n",
              "      <td>Res3001</td>\n",
              "      <td>Sensor 7</td>\n",
              "      <td>Chair Sensor Briefly Vacated</td>\n",
              "      <td>23</td>\n",
              "      <td>10</td>\n",
              "      <td>2017</td>\n",
              "      <td>9</td>\n",
              "      <td>54</td>\n",
              "      <td>594</td>\n",
              "      <td>3</td>\n",
              "    </tr>\n",
              "  </tbody>\n",
              "</table>\n",
              "</div>"
            ],
            "text/plain": [
              "  House_Number Sensor_num                        Status Day Month  Year Hour  \\\n",
              "0      Res3001   Sensor 7  Chair Sensor Briefly Vacated  23    10  2017    9   \n",
              "1      Res3001   Sensor 7  Chair Sensor Briefly Vacated  23    10  2017    9   \n",
              "2      Res3001   Sensor 7  Chair Sensor Briefly Vacated  23    10  2017    9   \n",
              "3      Res3001   Sensor 7  Chair Sensor Briefly Vacated  23    10  2017    9   \n",
              "4      Res3001   Sensor 7  Chair Sensor Briefly Vacated  23    10  2017    9   \n",
              "\n",
              "  Min Counter Time_elapsed  \n",
              "0  40     580            0  \n",
              "1  43     583            3  \n",
              "2  48     588            5  \n",
              "3  51     591            3  \n",
              "4  54     594            3  "
            ]
          },
          "metadata": {
            "tags": []
          },
          "execution_count": 24
        }
      ]
    },
    {
      "cell_type": "code",
      "metadata": {
        "id": "k81P5sPA_bDR",
        "colab_type": "code",
        "colab": {
          "base_uri": "https://localhost:8080/",
          "height": 107
        },
        "outputId": "dd24f964-1b94-41f7-c3b0-68d2f35f11e2"
      },
      "source": [
        "\n",
        "DurationSlept.loc[0]=([dataset.loc[4].Month, dataset.loc[4].Day, dataset.loc[4].Hour, dataset.loc[4].Min])\n",
        "DurationSlept.loc[1]=([dataset.loc[2].Month, dataset.loc[2].Day, dataset.loc[2].Hour, dataset.loc[2].Min])\n",
        "DurationSlept"
      ],
      "execution_count": 137,
      "outputs": [
        {
          "output_type": "execute_result",
          "data": {
            "text/html": [
              "<div>\n",
              "<style scoped>\n",
              "    .dataframe tbody tr th:only-of-type {\n",
              "        vertical-align: middle;\n",
              "    }\n",
              "\n",
              "    .dataframe tbody tr th {\n",
              "        vertical-align: top;\n",
              "    }\n",
              "\n",
              "    .dataframe thead th {\n",
              "        text-align: right;\n",
              "    }\n",
              "</style>\n",
              "<table border=\"1\" class=\"dataframe\">\n",
              "  <thead>\n",
              "    <tr style=\"text-align: right;\">\n",
              "      <th></th>\n",
              "      <th>Month</th>\n",
              "      <th>Day</th>\n",
              "      <th>Sleeping duration: hr</th>\n",
              "      <th>min</th>\n",
              "    </tr>\n",
              "  </thead>\n",
              "  <tbody>\n",
              "    <tr>\n",
              "      <th>0</th>\n",
              "      <td>10</td>\n",
              "      <td>23</td>\n",
              "      <td>9</td>\n",
              "      <td>54</td>\n",
              "    </tr>\n",
              "    <tr>\n",
              "      <th>1</th>\n",
              "      <td>10</td>\n",
              "      <td>23</td>\n",
              "      <td>9</td>\n",
              "      <td>48</td>\n",
              "    </tr>\n",
              "  </tbody>\n",
              "</table>\n",
              "</div>"
            ],
            "text/plain": [
              "  Month Day Sleeping duration: hr min\n",
              "0    10  23                     9  54\n",
              "1    10  23                     9  48"
            ]
          },
          "metadata": {
            "tags": []
          },
          "execution_count": 137
        }
      ]
    },
    {
      "cell_type": "code",
      "metadata": {
        "id": "y2TH3pRJwtgv",
        "colab_type": "code",
        "colab": {
          "base_uri": "https://localhost:8080/",
          "height": 603
        },
        "outputId": "add7ed0d-41c2-4083-8062-bf0824ccae42"
      },
      "source": [
        "dataset = pd.DataFrame({'House_Number': data[:, 0], 'Sensor_num': data[:, 1], 'Status': data[:, 2], 'Day': data[:, 3], 'Month': data[:, 4], 'Year': data[:, 5], 'Hour': data[:, 6], 'Min': data[:, 7], 'Counter': data[:, 8], 'Time_elapsed': data[:, 9]}\n",
        "                      , columns=['House_Number', 'Sensor_num', 'Status','Day','Month', 'Year', 'Hour', 'Min', 'Counter','Time_elapsed' ])\n",
        "bed_data = dataset.drop(['House_Number','Counter','Time_elapsed'], axis = 'columns')\n",
        "bed_data[['Year','Day','Month','Hour','Min']] = bed_data[['Year','Day','Month','Hour','Min']].astype(int)\n",
        "#slept = False\n",
        "column_names = [\"Month\",\"Day\",\"Sleeping duration: hr\",\"min\"]\n",
        "DurationSlept = pd.DataFrame(columns = column_names)\n",
        "j=0\n",
        "for i,sensor in enumerate(bed_data.Sensor_num):\n",
        "    if (sensor=='Sensor 5'):\n",
        "      if (bed_data.loc[i].Status == \"Pat's Bedroom Motion Activated\"):\n",
        "        bed_data.loc[i].Status = 1\n",
        "      else:\n",
        "        bed_data.loc[i].Status = 0\n",
        "    elif(sensor=='Sensor 8'):\n",
        "      if (bed_data.loc[i].Status == \"ABS Bed Sensor Occupied\" ):\n",
        "        slept = True\n",
        "        day = bed_data.loc[i].Day\n",
        "        hr = bed_data.loc[i].Hour\n",
        "        minn = bed_data.loc[i].Min\n",
        "        bed_data.loc[i].Status = 1\n",
        "      elif(bed_data.loc[i].Status == \"ABS Bed Sensor Vacated\" or bed_data.loc[i].Status == \"ABS Bed Sensor Briefly Vacated\"):\n",
        "        if slept:\n",
        "          #slept=!slept\n",
        "          hr2 =  bed_data.loc[i].Hour - hr\n",
        "          if hr2<0: hr2+=24\n",
        "          min2 = bed_data.loc[i].Min - minn\n",
        "          if min2<0: min2+=60\n",
        "          if hr2>0:\n",
        "            DurationSlept.loc[j]=([dataset.loc[i].Month, dataset.loc[i].Day, dataset.loc[i].Hour, dataset.loc[i].Min])\n",
        "            j+=1\n",
        "            #DurationSlept[i] = int(str(hr2) + str(min2))\n",
        "            #if (bed_data.loc[i].Day != day):\n",
        "            #  print(bed_data.loc[i].Day,'in month ',bed_data.loc[i].Month)\n",
        "            #  print(str(hr2) +'    '+ str(min2))\n",
        "          slept =False\n",
        "        \n",
        "    else:\n",
        "      bed_data = bed_data.drop([i])\n",
        "\n",
        "print(bed_data)\n",
        "print(DurationSlept)"
      ],
      "execution_count": 138,
      "outputs": [
        {
          "output_type": "stream",
          "text": [
            "/usr/local/lib/python3.6/dist-packages/pandas/core/generic.py:5303: SettingWithCopyWarning: \n",
            "A value is trying to be set on a copy of a slice from a DataFrame\n",
            "\n",
            "See the caveats in the documentation: https://pandas.pydata.org/pandas-docs/stable/user_guide/indexing.html#returning-a-view-versus-a-copy\n",
            "  self[name] = value\n"
          ],
          "name": "stderr"
        },
        {
          "output_type": "stream",
          "text": [
            "      Sensor_num                          Status  Day  Month  Year  Hour  Min\n",
            "10      Sensor 5       Pat's Bedroom Motion Idle   23     10  2017    10   27\n",
            "22      Sensor 5  Pat's Bedroom Motion Activated   23     10  2017    10   50\n",
            "25      Sensor 5       Pat's Bedroom Motion Idle   23     10  2017    10   52\n",
            "36      Sensor 5  Pat's Bedroom Motion Activated   23     10  2017    11   28\n",
            "37      Sensor 5       Pat's Bedroom Motion Idle   23     10  2017    11   31\n",
            "...          ...                             ...  ...    ...   ...   ...  ...\n",
            "55831   Sensor 5       Pat's Bedroom Motion Idle   30      9  2018    22   43\n",
            "55832   Sensor 8          ABS Bed Sensor Vacated   30      9  2018    22   57\n",
            "55833   Sensor 8         ABS Bed Sensor Occupied   30      9  2018    22   58\n",
            "55834   Sensor 8  ABS Bed Sensor Briefly Vacated   30      9  2018    23    0\n",
            "55835   Sensor 8  ABS Bed Sensor Briefly Vacated   30      9  2018    23    3\n",
            "\n",
            "[10731 rows x 7 columns]\n",
            "    Month Day Sleeping duration: hr min\n",
            "0      10  24                     4  42\n",
            "1      10  24                     8  30\n",
            "2      10  25                     5   8\n",
            "3      10  25                     8  52\n",
            "4      10  26                     2  54\n",
            "..    ...  ..                   ...  ..\n",
            "768     9  30                     7  33\n",
            "769     9  30                     9  31\n",
            "770     9  30                    11   0\n",
            "771     9  30                    22  57\n",
            "772     9  30                    23   0\n",
            "\n",
            "[773 rows x 4 columns]\n"
          ],
          "name": "stdout"
        }
      ]
    },
    {
      "cell_type": "code",
      "metadata": {
        "id": "oqOWQWRZIiKv",
        "colab_type": "code",
        "colab": {
          "base_uri": "https://localhost:8080/",
          "height": 513
        },
        "outputId": "9a5f1f69-5c6c-4c37-f294-52fa44cc6ad4"
      },
      "source": [
        "print(DurationSlept)\n",
        "#for i in range(DurationSlept.shape[0]):\n",
        "#  #if DurationSlept[i]>2400:\n",
        "#    print(i)\n",
        "#    print(DurationSlept[i])\n",
        "ax1 = plt.scatter(x=range(DurationSlept.shape[0]),\n",
        "                      y=DurationSlept[\"Sleeping duration: hr\"].values)\n",
        "#print(DurationSlept.shape[0])"
      ],
      "execution_count": 161,
      "outputs": [
        {
          "output_type": "stream",
          "text": [
            "    Month Day Sleeping duration: hr min\n",
            "0      10  24                     4  42\n",
            "1      10  24                     8  30\n",
            "2      10  25                     5   8\n",
            "3      10  25                     8  52\n",
            "4      10  26                     2  54\n",
            "..    ...  ..                   ...  ..\n",
            "768     9  30                     7  33\n",
            "769     9  30                     9  31\n",
            "770     9  30                    11   0\n",
            "771     9  30                    22  57\n",
            "772     9  30                    23   0\n",
            "\n",
            "[773 rows x 4 columns]\n"
          ],
          "name": "stdout"
        },
        {
          "output_type": "display_data",
          "data": {
            "image/png": "[encoded data removed]",
            "text/plain": [
              "<Figure size 432x288 with 1 Axes>"
            ]
          },
          "metadata": {
            "tags": []
          }
        }
      ]
    },
    {
      "cell_type": "code",
      "metadata": {
        "id": "NXF0TKSYx3sw",
        "colab_type": "code",
        "colab": {
          "base_uri": "https://localhost:8080/",
          "height": 265
        },
        "outputId": "24077440-5415-4455-fbe7-7e1d8b880c4c"
      },
      "source": [
        "bed_data = dataset.drop(['House_Number','Year','Counter','Time_elapsed'], axis = 'columns')\n",
        "bed_data[['Status','Day','Month','Hour','Min']] = bed_data[['Status','Day','Month','Hour','Min']].astype(int)\n",
        "print(bed_data)\n",
        "bed_data2 = bed_data[(bed_data['Day']==12) & (bed_data['Month']==12) & (bed_data['Sensor_num']=='Sensor 5')]\n"
      ],
      "execution_count": 36,
      "outputs": [
        {
          "output_type": "stream",
          "text": [
            "      Sensor_num  Status  Day  Month  Hour  Min\n",
            "10      Sensor 5       0   23     10    10   27\n",
            "22      Sensor 5       1   23     10    10   50\n",
            "25      Sensor 5       0   23     10    10   52\n",
            "36      Sensor 5       1   23     10    11   28\n",
            "37      Sensor 5       0   23     10    11   31\n",
            "...          ...     ...  ...    ...   ...  ...\n",
            "55831   Sensor 5       0   30      9    22   43\n",
            "55832   Sensor 8       0   30      9    22   57\n",
            "55833   Sensor 8       1   30      9    22   58\n",
            "55834   Sensor 8       0   30      9    23    0\n",
            "55835   Sensor 8       0   30      9    23    3\n",
            "\n",
            "[10731 rows x 6 columns]\n"
          ],
          "name": "stdout"
        }
      ]
    },
    {
      "cell_type": "code",
      "metadata": {
        "id": "8AEeW7v55uKB",
        "colab_type": "code",
        "colab": {
          "base_uri": "https://localhost:8080/",
          "height": 278
        },
        "outputId": "63005c57-c8b5-4c9b-e73f-c84707733c6c"
      },
      "source": [
        "#bed_data2.hist(bins=3)\n",
        "ax = bed_data2.plot.scatter(x='Hour',y='Status',alpha=0.5)"
      ],
      "execution_count": 39,
      "outputs": [
        {
          "output_type": "display_data",
          "data": {
            "image/png": "[encoded data removed]",
            "text/plain": [
              "<Figure size 432x288 with 1 Axes>"
            ]
          },
          "metadata": {
            "tags": []
          }
        }
      ]
    },
    {
      "cell_type": "code",
      "metadata": {
        "id": "shz2I0Hzw23Y",
        "colab_type": "code",
        "colab": {}
      },
      "source": [
        "def compute_performance(yhat, y):\n",
        "    # First, get tp, tn, fp, fn\n",
        "    tp = sum(np.logical_and(yhat == 1, y == 1))\n",
        "    tn = sum(np.logical_and(yhat == 0, y == 0))\n",
        "    fp = sum(np.logical_and(yhat == 1, y == 0))\n",
        "    fn = sum(np.logical_and(yhat == 0, y == 1))\n",
        "\n",
        "    print(f\"tp: {tp} tn: {tn} fp: {fp} fn: {fn}\")\n",
        "    \n",
        "    # Accuracy\n",
        "    trainacc = (tp + tn) / (tp + tn + fp + fn)\n",
        "    \n",
        "    # Precision\n",
        "    # \"Of the ones I labeled +, how many are actually +?\"\n",
        "    precision = tp / (tp + fp)\n",
        "    \n",
        "    # Recall\n",
        "    # \"Of all the + in the data, how many do I correctly label?\"\n",
        "    recall = tp / (tp + fn)    \n",
        "    \n",
        "    # Sensitivity\n",
        "    # \"Of all the + in the data, how many do I correctly label?\"\n",
        "    sensitivity = recall\n",
        "    \n",
        "    # Specificity\n",
        "    # \"Of all the - in the data, how many do I correctly label?\"\n",
        "    specificity = tn / (fp + tn)\n",
        "    \n",
        "    # Print results\n",
        "    \n",
        "    print(\"Acc:\",round(trainacc,3),\"Rec:\",round(recall,3),\"Prec:\",round(precision,3),\n",
        "          \"Sens:\",round(sensitivity,3),\"Spec:\",round(specificity,3))\n",
        "    \n",
        "    # Print CI for accuracy\n",
        "    # We can use statsmodel's proportion_confint that uses a normal approximation \n",
        "    # to th binomial distribution \n",
        "    # proportion_confint(count, nobs, alpha=0.05, method='normal')\n",
        "    print(\"CI for accuracy: \", proportion_confint(tp + tn, tp + tn + fp + fn ))"
      ],
      "execution_count": 0,
      "outputs": []
    }
  ]
}